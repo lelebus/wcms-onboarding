{
 "cells": [
  {
   "cell_type": "markdown",
   "metadata": {},
   "source": [
    "# Prepare wines from a dirty list\n",
    "\n",
    "Load a CSV of wines (aka winelist) and clean the data to get it ready to run it through the matching algorithm.\n"
   ]
  },
  {
   "cell_type": "code",
   "execution_count": 473,
   "metadata": {},
   "outputs": [
    {
     "name": "stdout",
     "output_type": "stream",
     "text": [
      "The autoreload extension is already loaded. To reload it, use:\n",
      "  %reload_ext autoreload\n"
     ]
    }
   ],
   "source": [
    "import pandas as pd\n",
    "\n",
    "%load_ext autoreload\n",
    "%autoreload 2\n"
   ]
  },
  {
   "cell_type": "markdown",
   "metadata": {},
   "source": [
    "### Load dirty winelist file and perform cleaning\n"
   ]
  },
  {
   "cell_type": "code",
   "execution_count": 474,
   "metadata": {},
   "outputs": [
    {
     "name": "stdout",
     "output_type": "stream",
     "text": [
      "Total rows: 928\n",
      "\n"
     ]
    },
    {
     "data": {
      "text/html": [
       "<div>\n",
       "<style scoped>\n",
       "    .dataframe tbody tr th:only-of-type {\n",
       "        vertical-align: middle;\n",
       "    }\n",
       "\n",
       "    .dataframe tbody tr th {\n",
       "        vertical-align: top;\n",
       "    }\n",
       "\n",
       "    .dataframe thead th {\n",
       "        text-align: right;\n",
       "    }\n",
       "</style>\n",
       "<table border=\"1\" class=\"dataframe\">\n",
       "  <thead>\n",
       "    <tr style=\"text-align: right;\">\n",
       "      <th></th>\n",
       "      <th>external_id</th>\n",
       "      <th>name_one</th>\n",
       "      <th>name_two</th>\n",
       "      <th>size</th>\n",
       "      <th>winery_name</th>\n",
       "      <th>country</th>\n",
       "      <th>vintage</th>\n",
       "      <th>currency</th>\n",
       "      <th>price</th>\n",
       "      <th>quantity</th>\n",
       "      <th>Unnamed: 10</th>\n",
       "    </tr>\n",
       "  </thead>\n",
       "  <tbody>\n",
       "    <tr>\n",
       "      <th>0</th>\n",
       "      <td>1</td>\n",
       "      <td>Demi: 375 ml</td>\n",
       "      <td>NaN</td>\n",
       "      <td>NaN</td>\n",
       "      <td>NaN</td>\n",
       "      <td>NaN</td>\n",
       "      <td>NaN</td>\n",
       "      <td>NaN</td>\n",
       "      <td>NaN</td>\n",
       "      <td>NaN</td>\n",
       "      <td>NaN</td>\n",
       "    </tr>\n",
       "    <tr>\n",
       "      <th>1</th>\n",
       "      <td>2</td>\n",
       "      <td>Champagne</td>\n",
       "      <td>Rosé</td>\n",
       "      <td>375 ml</td>\n",
       "      <td>Ruinart</td>\n",
       "      <td>FRA</td>\n",
       "      <td>NaN</td>\n",
       "      <td>€</td>\n",
       "      <td>€ 85,00</td>\n",
       "      <td>23</td>\n",
       "      <td>NaN</td>\n",
       "    </tr>\n",
       "    <tr>\n",
       "      <th>2</th>\n",
       "      <td>3</td>\n",
       "      <td>Champagne</td>\n",
       "      <td>Blanc de Blanc</td>\n",
       "      <td>375 ml</td>\n",
       "      <td>Ruinart</td>\n",
       "      <td>FRA</td>\n",
       "      <td>NaN</td>\n",
       "      <td>€</td>\n",
       "      <td>€ 80,00</td>\n",
       "      <td>19</td>\n",
       "      <td>NaN</td>\n",
       "    </tr>\n",
       "    <tr>\n",
       "      <th>3</th>\n",
       "      <td>4</td>\n",
       "      <td>Venegazzù della Casa</td>\n",
       "      <td>NaN</td>\n",
       "      <td>375 ml</td>\n",
       "      <td>Loredan e Gasperin</td>\n",
       "      <td>ITA</td>\n",
       "      <td>17</td>\n",
       "      <td>€</td>\n",
       "      <td>€ 25,00</td>\n",
       "      <td>NaN</td>\n",
       "      <td>NaN</td>\n",
       "    </tr>\n",
       "    <tr>\n",
       "      <th>4</th>\n",
       "      <td>5</td>\n",
       "      <td>Santa Maddalena</td>\n",
       "      <td>NaN</td>\n",
       "      <td>375 ml</td>\n",
       "      <td>Cantina di Bolzano</td>\n",
       "      <td>ITA</td>\n",
       "      <td>21</td>\n",
       "      <td>€</td>\n",
       "      <td>€ 15,00</td>\n",
       "      <td>NaN</td>\n",
       "      <td>NaN</td>\n",
       "    </tr>\n",
       "  </tbody>\n",
       "</table>\n",
       "</div>"
      ],
      "text/plain": [
       "   external_id               name_one        name_two    size  \\\n",
       "0            1           Demi: 375 ml             NaN     NaN   \n",
       "1            2              Champagne            Rosé  375 ml   \n",
       "2            3             Champagne   Blanc de Blanc  375 ml   \n",
       "3            4  Venegazzù della Casa              NaN  375 ml   \n",
       "4            5       Santa Maddalena              NaN  375 ml   \n",
       "\n",
       "          winery_name country vintage currency    price quantity Unnamed: 10  \n",
       "0                 NaN     NaN     NaN      NaN      NaN      NaN         NaN  \n",
       "1             Ruinart     FRA     NaN        €  € 85,00       23         NaN  \n",
       "2             Ruinart     FRA     NaN        €  € 80,00       19         NaN  \n",
       "3  Loredan e Gasperin     ITA      17        €  € 25,00      NaN         NaN  \n",
       "4  Cantina di Bolzano     ITA      21        €  € 15,00      NaN         NaN  "
      ]
     },
     "execution_count": 474,
     "metadata": {},
     "output_type": "execute_result"
    }
   ],
   "source": [
    "wines_original = pd.read_csv('v1-cleaned.csv')\n",
    "print(f'Total rows: {wines_original.shape[0]}')\n",
    "print()\n",
    "\n",
    "wines_original.head()\n"
   ]
  },
  {
   "cell_type": "markdown",
   "metadata": {},
   "source": [
    "### Note: This part is always CUSTOM to the client\n"
   ]
  },
  {
   "cell_type": "markdown",
   "metadata": {},
   "source": [
    "- Merge `name_one` and `name_two`.\n",
    "\n",
    "Other fields:\n",
    "- `external_id`: OK\n",
    "- `name`: merge name_one + name_two\n",
    "- `winery_name`: substitute nan with ''\n",
    "- `type`: missing\n",
    "- `storage_area`: missing\n",
    "- `size`: drop \"al bicchiere\" rows, to parse\n",
    "- `vintage`: to parse\n",
    "- `price`: to parse\n",
    "- `info`: missing\n",
    "- `quantity`: to parse\n",
    "- `internal_notes`: missing\n",
    "- `country`: extra field, is already in DB\n",
    "\n"
   ]
  },
  {
   "cell_type": "code",
   "execution_count": 475,
   "metadata": {},
   "outputs": [
    {
     "data": {
      "text/plain": [
       "array([nan, 'Ruinart', 'Loredan e Gasperin'], dtype=object)"
      ]
     },
     "execution_count": 475,
     "metadata": {},
     "output_type": "execute_result"
    }
   ],
   "source": [
    "wines = wines_original.copy()\n",
    "rows_to_drop = pd.DataFrame(columns=list(wines.columns)+['reason'])\n",
    "\n",
    "def add_to_drop(condition, reason=''):\n",
    "    to_drop = wines_original[condition]\n",
    "    # Only keep rows that are not already in dropped_rows\n",
    "    to_drop = to_drop[~to_drop.index.isin(rows_to_drop.index)]\n",
    "    to_drop['reason'] = reason\n",
    "    return pd.concat([rows_to_drop, to_drop])\n",
    "\n",
    "import re\n",
    "\n",
    "# external id ok\n",
    "\n",
    "# merge name_one and name_two into name\n",
    "wines['name'] = wines['name_one'].fillna('') + ' ' + wines['name_two'].fillna('')\n",
    "wines['name'] = wines['name'].apply(lambda x: re.sub(r'\\s+', ' ', x).strip().lower())\n",
    "\n",
    "wines = wines.drop(columns=['name_one', 'name_two'])\n",
    "\n",
    "# winery_name: substitute nan with empty string\n",
    "wines_original['winery_name'].unique()[:3]"
   ]
  },
  {
   "cell_type": "code",
   "execution_count": 476,
   "metadata": {},
   "outputs": [
    {
     "data": {
      "text/plain": [
       "array(['', 'Ruinart', 'Loredan e Gasperin'], dtype=object)"
      ]
     },
     "execution_count": 476,
     "metadata": {},
     "output_type": "execute_result"
    }
   ],
   "source": [
    "wines['winery_name'] = wines_original['winery_name'].fillna('')\n",
    "wines['winery_name'].unique()[:3]"
   ]
  },
  {
   "cell_type": "code",
   "execution_count": 477,
   "metadata": {},
   "outputs": [],
   "source": [
    "# type: missing\n",
    "wines['type'] = ''\n",
    "\n",
    "# storage_area: missing\n",
    "wines['storage_area'] = ''"
   ]
  },
  {
   "cell_type": "code",
   "execution_count": 478,
   "metadata": {},
   "outputs": [
    {
     "data": {
      "text/plain": [
       "array([nan, '375 ml', 'Magnum', 'Jéroboam', '750 ml', '500 ml',\n",
       "       'al bicchiere'], dtype=object)"
      ]
     },
     "execution_count": 478,
     "metadata": {},
     "output_type": "execute_result"
    }
   ],
   "source": [
    "# `size`: drop \"al bicchiere\" rows\n",
    "wines_original['size'].unique()"
   ]
  },
  {
   "cell_type": "code",
   "execution_count": 479,
   "metadata": {},
   "outputs": [
    {
     "data": {
      "text/plain": [
       "array(['BOTTLE', 'HALF_BOTTLE', 'MAGNUM', 'JEROBOAM', 'HALF_LITER',\n",
       "       'al bicchiere'], dtype=object)"
      ]
     },
     "execution_count": 479,
     "metadata": {},
     "output_type": "execute_result"
    }
   ],
   "source": [
    "sizes = {\n",
    "    '375 ml': 'HALF_BOTTLE',\n",
    "    '500 ml': 'HALF_LITER',\n",
    "    '750 ml': 'BOTTLE',\n",
    "    'Magnum': 'MAGNUM',\n",
    "    'Jéroboam': 'JEROBOAM',\n",
    "    'al bicchiere': 'al bicchiere'\n",
    "}\n",
    "\n",
    "rows_to_drop = add_to_drop(wines_original['size'] == 'al bicchiere', 'size is \"al bicchiere\"')\n",
    "\n",
    "wines['size'] = wines_original['size'].apply(lambda x: '750 ml' if pd.isna(x) else x)\n",
    "wines['size'] = wines['size'].map(sizes)\n",
    "wines['size'].unique()"
   ]
  },
  {
   "cell_type": "code",
   "execution_count": 480,
   "metadata": {},
   "outputs": [
    {
     "data": {
      "text/plain": [
       "array([None, '17', '21', '2122', '1920', '20', '19', '04', '8', '14',\n",
       "       '10', '2008', '12', '13', '2005', '16', '18', '6', '19792019',\n",
       "       '22', '23', '5', '68', '09', '11', '15', '06', '171920', '1975',\n",
       "       '7', '2', '1719', '1720', '1821', '2016', '73', '2021', '9', '3',\n",
       "       '97', '1', '95', '96', '98', '90', '99'], dtype=object)"
      ]
     },
     "execution_count": 480,
     "metadata": {},
     "output_type": "execute_result"
    }
   ],
   "source": [
    "# vintage: to parse\n",
    "# set 0 vintage year to None and NaN vintage year to None\n",
    "wines['vintage'] = wines_original['vintage'].apply(lambda x: None if pd.isnull(x) or pd.isna(x) else re.sub('\\D', '', x))\n",
    "wines['vintage'].unique()"
   ]
  },
  {
   "cell_type": "code",
   "execution_count": 481,
   "metadata": {},
   "outputs": [
    {
     "data": {
      "text/plain": [
       "array([None, '17', '21', ('2021', '2022'), ('19', '20'), '20', '19', '04',\n",
       "       '8', '14', '10', '2008', '12', '13', '2005', '16', '18', '6',\n",
       "       ('1979', '2019'), '22', '23', '5', '68', '09', '11', '15', '06',\n",
       "       ('17', '19', '20'), '1975', '7', '2', ('17', '19'), ('17', '20'),\n",
       "       ('18', '21'), '2016', '73', ('20', '21'), '9', '3', '97', '1',\n",
       "       '95', '96', '98', '90', '99'], dtype=object)"
      ]
     },
     "execution_count": 481,
     "metadata": {},
     "output_type": "execute_result"
    }
   ],
   "source": [
    "# correct vintage and split vintages with multiple years\n",
    "# later I am gonna use them to create multiple rows\n",
    "wines['vintage'] = wines['vintage'].apply(lambda x: ('2021', '2022') if x == '2122' else x)\n",
    "wines['vintage'] = wines['vintage'].apply(lambda x: ('19', '20') if x == '1920' else x)\n",
    "wines['vintage'] = wines['vintage'].apply(lambda x: ('1979', '2019') if x == '19792019' else x)\n",
    "wines['vintage'] = wines['vintage'].apply(lambda x: ('20', '21') if x == '2021' else x)\n",
    "wines['vintage'] = wines['vintage'].apply(lambda x: ('17', '19', '20') if x == '171920' else x)\n",
    "wines['vintage'] = wines['vintage'].apply(lambda x: ('17', '19') if x == '1719' else x)\n",
    "wines['vintage'] = wines['vintage'].apply(lambda x: ('17', '20') if x == '1720' else x)\n",
    "wines['vintage'] = wines['vintage'].apply(lambda x: ('18', '21') if x == '1821' else x)\n",
    "wines['vintage'] = wines['vintage'].apply(lambda x: ('13', '19') if x == '1319' else x)\n",
    "\n",
    "wines['vintage'].unique()"
   ]
  },
  {
   "cell_type": "code",
   "execution_count": 482,
   "metadata": {},
   "outputs": [
    {
     "data": {
      "text/html": [
       "<div>\n",
       "<style scoped>\n",
       "    .dataframe tbody tr th:only-of-type {\n",
       "        vertical-align: middle;\n",
       "    }\n",
       "\n",
       "    .dataframe tbody tr th {\n",
       "        vertical-align: top;\n",
       "    }\n",
       "\n",
       "    .dataframe thead th {\n",
       "        text-align: right;\n",
       "    }\n",
       "</style>\n",
       "<table border=\"1\" class=\"dataframe\">\n",
       "  <thead>\n",
       "    <tr style=\"text-align: right;\">\n",
       "      <th></th>\n",
       "      <th>external_id</th>\n",
       "      <th>size</th>\n",
       "      <th>winery_name</th>\n",
       "      <th>country</th>\n",
       "      <th>vintage</th>\n",
       "      <th>currency</th>\n",
       "      <th>price</th>\n",
       "      <th>quantity</th>\n",
       "      <th>Unnamed: 10</th>\n",
       "      <th>name</th>\n",
       "      <th>type</th>\n",
       "      <th>storage_area</th>\n",
       "    </tr>\n",
       "  </thead>\n",
       "  <tbody>\n",
       "    <tr>\n",
       "      <th>89</th>\n",
       "      <td>90</td>\n",
       "      <td>BOTTLE</td>\n",
       "      <td>Loredan Gasparini</td>\n",
       "      <td>ITA</td>\n",
       "      <td>(1979, 2019)</td>\n",
       "      <td>€</td>\n",
       "      <td>€ 45,00</td>\n",
       "      <td>NaN</td>\n",
       "      <td>NaN</td>\n",
       "      <td>spumante extra brut</td>\n",
       "      <td></td>\n",
       "      <td></td>\n",
       "    </tr>\n",
       "  </tbody>\n",
       "</table>\n",
       "</div>"
      ],
      "text/plain": [
       "    external_id    size        winery_name country       vintage currency  \\\n",
       "89           90  BOTTLE  Loredan Gasparini     ITA  (1979, 2019)        €   \n",
       "\n",
       "      price quantity Unnamed: 10                 name type storage_area  \n",
       "89  € 45,00      NaN         NaN  spumante extra brut                    "
      ]
     },
     "execution_count": 482,
     "metadata": {},
     "output_type": "execute_result"
    }
   ],
   "source": [
    "wines.loc[wines['vintage']==('1979', '2019')]"
   ]
  },
  {
   "cell_type": "code",
   "execution_count": 483,
   "metadata": {},
   "outputs": [
    {
     "data": {
      "text/plain": [
       "array([nan, '€ 85,00', '€ 80,00', '€ 25,00', '€ 15,00', '€ 24,00',\n",
       "       '€ 18,00', '€ 23,00', '€ 130,00', '€ 27,00', '€ 42,00', '€ 16,00',\n",
       "       '€ 95,00', '€ 110,00', '€ 230,00', '€ 160,00', '€ 850,00',\n",
       "       '€ 400,00', '€ 380,00', '€ 90,00', '€ 450,00', '€ 900,00',\n",
       "       '€ 210,00', '€ 220,00', '€ 420,00', '€ 140,00', '€ 320,00',\n",
       "       '€ 240,00', '€ 190,00', '€ 150,00', '€ 50,00', '€ 105,00',\n",
       "       '€ 54,00', '€ 100,00', '€ 60,00', '€ 65,00', '€ 250,00', '€ 38,00',\n",
       "       '€ 45,00', '€ 48,00', '€ 30,00', '€ 28,00', '€ 70,00', '€ 33,00',\n",
       "       '€ 64,00', '€ 120,00', '€ 39,00', '€ 40,00', '€ 29,00', '€ 26,00',\n",
       "       '€ 36,00', '€ 98,00', '€ 19,00', '€ 56,00', '€ 21,00', '€ 55,00',\n",
       "       '€ 63,00', '€ 74,00', '€ 75,00', '€ 35,00', '€ 34,00', '€ 52,00',\n",
       "       '€ 104,00', '€ 82,00', '€ 78,00', '€ 20,00', '€ 72,00', '€ 73,00',\n",
       "       '€ 66,00', '€ 88,00', '€ 270,00', '€ 340,00', '€ 407,00',\n",
       "       '€ 410,00', '€ 860,00', '€ 890,00', '€ 180,00', '€ 260,00',\n",
       "       '€ 58,00', '€ 37,00', '€ 68,00', '€ 185,00', '€ 145,00', '€ 32,00',\n",
       "       '€ 170,00', '€ 840,00', '€ 125,00', '€ 330,00', '€ 132,00',\n",
       "       '€ 86,00', '€ 200,00', '€ 360,00', '€ 57,00', '€ 123,00',\n",
       "       '€ 22,00', '€ 62,00', '€ 99,00', '€ 46,00', '€ 155,00', '€ 280,00',\n",
       "       '€ 300,00', '€ 650,00', '€ 2.000,00', '€ 580,00', '€ 31,00',\n",
       "       '€ 1,25', '€ 51,00', '€ 126,00', '€ 1.250,00', '€ 1.200,00',\n",
       "       '€ 94,00', '€ 480,00', '€ 520,00', '€ 10,00', '€ 1.000,00',\n",
       "       '€ 8,00', '€ 7,00', '€ 6,00', 'PREZZI AL BICCHIERE', '€ 5,00',\n",
       "       '€ 12,00', '€ 14,00', '€ 9,00'], dtype=object)"
      ]
     },
     "execution_count": 483,
     "metadata": {},
     "output_type": "execute_result"
    }
   ],
   "source": [
    "# price: to parse\n",
    "\n",
    "wines_original['price'].unique()"
   ]
  },
  {
   "cell_type": "code",
   "execution_count": 484,
   "metadata": {},
   "outputs": [],
   "source": [
    "rows_to_drop = add_to_drop(wines_original['price'] == 'PREZZI AL BICCHIERE', reason='price is \"PREZZI AL BICCHIERE\"')"
   ]
  },
  {
   "cell_type": "code",
   "execution_count": 485,
   "metadata": {},
   "outputs": [
    {
     "data": {
      "text/plain": [
       "array([nan, 85.0, 80.0, 25.0, 15.0, 24.0, 18.0, 23.0, 130.0, 27.0, 42.0,\n",
       "       16.0, 95.0, 110.0, 230.0, 160.0, 850.0, 400.0, 380.0, 90.0, 450.0,\n",
       "       900.0, 210.0, 220.0, 420.0, 140.0, 320.0, 240.0, 190.0, 150.0,\n",
       "       50.0, 105.0, 54.0, 100.0, 60.0, 65.0, 250.0, 38.0, 45.0, 48.0,\n",
       "       30.0, 28.0, 70.0, 33.0, 64.0, 120.0, 39.0, 40.0, 29.0, 26.0, 36.0,\n",
       "       98.0, 19.0, 56.0, 21.0, 55.0, 63.0, 74.0, 75.0, 35.0, 34.0, 52.0,\n",
       "       104.0, 82.0, 78.0, 20.0, 72.0, 73.0, 66.0, 88.0, 270.0, 340.0,\n",
       "       407.0, 410.0, 860.0, 890.0, 180.0, 260.0, 58.0, 37.0, 68.0, 185.0,\n",
       "       145.0, 32.0, 170.0, 840.0, 125.0, 330.0, 132.0, 86.0, 200.0, 360.0,\n",
       "       57.0, 123.0, 22.0, 62.0, 99.0, 46.0, 155.0, 280.0, 300.0, 650.0,\n",
       "       2000.0, 580.0, 31.0, 1.25, 51.0, 126.0, 1250.0, 1200.0, 94.0,\n",
       "       480.0, 520.0, 10.0, 1000.0, 8.0, 7.0, 6.0, 'PREZZI AL BICCHIERE',\n",
       "       5.0, 12.0, 14.0, 9.0], dtype=object)"
      ]
     },
     "execution_count": 485,
     "metadata": {},
     "output_type": "execute_result"
    }
   ],
   "source": [
    "wines['price'] = wines_original['price'].apply(lambda x: x.replace('.', '').replace(',', '.').replace('€', '').strip() if not pd.isna(x) else x)\n",
    "wines['price'] = wines['price'].apply(lambda x: float(x) if not pd.isna(x) and '.' in x else x)\n",
    "wines['price'].unique()"
   ]
  },
  {
   "cell_type": "code",
   "execution_count": 486,
   "metadata": {},
   "outputs": [],
   "source": [
    "# add empty info\n",
    "wines['info'] = ''"
   ]
  },
  {
   "cell_type": "code",
   "execution_count": 487,
   "metadata": {},
   "outputs": [
    {
     "data": {
      "text/plain": [
       "array([nan, '23', '19', '10', '4', '2', '1 ‘04, 2 ‘08', '3', '13', '83',\n",
       "       '14', '1', '12', '2 166 ed, 2 Grande cuvee pre 08',\n",
       "       '10 244, 3 242, 2 243', '5', '6', '9', '27', '13 ‘14', '173',\n",
       "       '7 n. 023, 5 n. 024', '8', '16', '1 ‘08, 1 ‘10', '15', '7', '82',\n",
       "       '9 ‘21, 11 ‘20, 27 ’22', '42', '24', '44', '27 ‘22, 1 ‘21',\n",
       "       '2 ‘21 5 ‘22', '17', '3 ‘18, 3 ‘19, 13 ‘21 ', '3 ‘21, 8 ‘22',\n",
       "       '2 ‘18, 3 ‘19, 4 ‘20', '20', '9 ‘20, 19 ‘22', '1 ‘21, 14 ‘22',\n",
       "       '5 ‘20, 5 ‘22', '19 ‘22, 2 ‘20 ', '2 ‘21, 32 ‘22', '11', '32',\n",
       "       '5 ‘21, 5 ‘22', '2 ‘20, 6 ‘22', '2 ‘19, 4 ‘21, 11 ‘22',\n",
       "       '3 ‘22, 18 ‘23', '1 ‘18, 8 ‘21', '1 ‘21, 6 ‘22', '5 ‘19, 6 ‘21',\n",
       "       '1 ‘20, 1 ‘21', 'Togliere', '2 ‘19, 9 ‘21 ', '4 ‘18, 3 ‘20',\n",
       "       '12 ‘19, 26 ‘20', '2 ‘19, 3 ‘20', ' 2 ‘20 64 ‘21', '18 ‘20, 6 ‘21',\n",
       "       '1 ‘19, 1, ‘18', '4 ‘18, 8 ‘19', '4 ‘21, 2 ‘22', '3 ‘04, 19 ‘05',\n",
       "       '3’ 20, 1 ‘17', '3 ‘21, 5 ‘22', '4 ‘21, 6 ‘22', '1 ‘13, 1 ‘16',\n",
       "       '2 ‘10, 1 ‘16', '1 ‘15, 9 ‘16', '4 ‘18, 24 ‘19', '1 ‘20, 12 ‘21',\n",
       "       '2 ‘17, 2 ‘18', '1 ‘18, 19‘19', '8 ‘17, 5 ‘18',\n",
       "       '1 ‘18, 1 ‘19, 21 ‘20', '3 ‘18, 4’19', '1 ‘19, 9 ‘21',\n",
       "       '1 ‘18, 1 ‘19, 3 ‘20, 6 ‘22', '1 ‘16, 1 ‘17, 6 ‘18', '22',\n",
       "       '1 ‘19, 4 ‘20', '4 ‘17, 3 ‘13', '1 ‘13, 6 ‘18 6 ‘19',\n",
       "       '7 ‘15, 6 ‘19, 6 ‘20', '4 ‘19, 3 ‘20', '25', '9 ‘19, 7 ‘20',\n",
       "       '3 ‘19, 19 ‘20', '8 ‘19, 2 ‘16', '13 ‘19, 11 ‘20', '18', '37',\n",
       "       '7 ‘21, 2 ‘22', '2 ‘21, 2 ‘22', '13 ‘20, 6 ‘21', '4 ‘21, 8 ‘22',\n",
       "       '14 ‘22, 1 ‘21', '2 ‘18, 2 ‘19, 5 ‘20', '2 ‘16, 1 ‘99',\n",
       "       '1 ‘19, 2 ‘20', '21', '3 ‘18, 1 ‘19 ', '4 ‘17, 1 ‘19',\n",
       "       '1 ‘20, 4 ‘21', '9 ‘17, 6 ‘20', '1 ‘21, 16 ‘22', '6 ‘18, 2 ‘20',\n",
       "       '1 ‘17, 1 ‘16, 14 ‘20', '3 ‘19, 3 ‘20, 12 ‘21', '7 ‘19, 12 ‘20',\n",
       "       '1 ‘17, 28 ‘20', '6 ‘21, 18 ‘22', '2 ‘13, 2 ‘16',\n",
       "       '11 ‘20, 2 ‘19, 1 ‘18', '2 ‘13, 1 ‘17, 3 ‘18',\n",
       "       '1 ‘17, 2 ‘19, 7 ‘20', '31', '36', '2 ‘19, 2 ‘20', '3 ‘20, 6 ‘21',\n",
       "       '2 ‘21, 4 ‘22', '5 ‘20, 10 ‘21', '3 ‘15, 6 ‘20', '5 ‘15, 6 ‘20',\n",
       "       '3 ‘18, 6 ‘20', '41', '4 ‘20, 1 ‘19', '9 ‘21, 12 ‘22',\n",
       "       '2 ‘14, 1 ‘18', '3 ‘17, 6 ‘21', '5 ‘14, 5 ‘18',\n",
       "       '3 ‘18, 2 ‘14, 1 ‘12', '2 ‘20, 4 ‘21, 12 ‘22',\n",
       "       '2 ‘17, 1 ‘18, 5 ‘20', '2 ‘20, 3’ 21,  6 ‘22',\n",
       "       '4 ‘15 1 ‘17, 1 ‘21', '1 ‘17, 5 ‘21', '6 ‘20, 5 ‘19',\n",
       "       '3 ‘17, 4 ‘20', '3,5', '2,5', '0,5', '1,5', '5,5'], dtype=object)"
      ]
     },
     "execution_count": 487,
     "metadata": {},
     "output_type": "execute_result"
    }
   ],
   "source": [
    "# parse quantity\n",
    "wines_original['quantity'].unique()"
   ]
  },
  {
   "cell_type": "code",
   "execution_count": 488,
   "metadata": {},
   "outputs": [
    {
     "data": {
      "text/plain": [
       "array([  0.,  23.,  19.,  10.,   4.,   2.,  nan,   3.,  13.,  83.,  14.,\n",
       "         1.,  12.,   5.,   6.,   9.,  27., 173.,   8.,  16.,  15.,   7.,\n",
       "        82.,  42.,  24.,  44.,  17.,  20.,  11.,  32.,  22.,  25.,  18.,\n",
       "        37.,  21.,  31.,  36.,  41.])"
      ]
     },
     "execution_count": 488,
     "metadata": {},
     "output_type": "execute_result"
    }
   ],
   "source": [
    "wines['quantity'] = wines_original['quantity'].apply(lambda x: '0' if pd.isna(x) else x)\n",
    "\n",
    "rows_to_drop = add_to_drop(wines_original['quantity'].apply(lambda x: len(str(x))) > 4, reason='quantity is too long')\n",
    "rows_to_drop = add_to_drop(wines['quantity'].apply(lambda x: ',' in x), reason='quantity has a decimal')\n",
    "\n",
    "# convet to int\n",
    "wines['quantity'] = wines['quantity'].drop(rows_to_drop.index).apply(lambda x: int(x))\n",
    "wines['quantity'].unique()\n"
   ]
  },
  {
   "cell_type": "code",
   "execution_count": 489,
   "metadata": {},
   "outputs": [],
   "source": [
    "# internal_notes: missing\n",
    "wines['internal_notes'] = ''"
   ]
  },
  {
   "cell_type": "markdown",
   "metadata": {},
   "source": [
    "### Save new version of the winelist"
   ]
  },
  {
   "cell_type": "code",
   "execution_count": 490,
   "metadata": {},
   "outputs": [],
   "source": [
    "# drop columns that are not the required ones\n",
    "# - `external_id`\n",
    "# - `name`\n",
    "# - `winery_name`\n",
    "# - `type`\n",
    "# - `storage_area`\n",
    "# - `size`\n",
    "# - `vintage`\n",
    "# - `price`\n",
    "# - `info`\n",
    "# - `quantity`\n",
    "# - `internal_notes`\n",
    "\n",
    "wines_out = wines[['external_id', 'name', 'winery_name', 'type', 'storage_area', 'size', 'vintage', 'price', 'info', 'quantity', 'internal_notes']]\n",
    "\n",
    "wines_out_cleaned = wines_out.drop(rows_to_drop.index).explode('vintage')\n",
    "open('v2-cleaned.csv', 'w').close()\n",
    "wines_out_cleaned.to_csv('v2-cleaned.csv', index=False)\n",
    "\n",
    "open('v2-dropped.csv', 'w').close()\n",
    "wines_out_dropped = wines_out.loc[rows_to_drop.index].explode('vintage')\n",
    "wines_out_dropped['reason'] = rows_to_drop['reason']\n",
    "wines_out_dropped.to_csv('v2-dropped.csv', index=False)\n",
    "\n",
    "# wines_dropped = wines.loc[rows_to_drop.index]\n",
    "# wines\n",
    "# rows_to_drop.to_csv('v2-dropped.csv', index=False)"
   ]
  },
  {
   "cell_type": "markdown",
   "metadata": {},
   "source": [
    "### Print search terms\n",
    "\n",
    "**NOTE: Before proceeding with the matching algorithm, run the viviner and insert new wines.**"
   ]
  },
  {
   "cell_type": "code",
   "execution_count": 491,
   "metadata": {},
   "outputs": [],
   "source": [
    "with open('search-terms.txt', 'w') as f:\n",
    "    for term in wines['name'].unique():\n",
    "        f.write(f'{term}\\n')\n",
    "    for term in wines['winery_name'].unique():\n",
    "        f.write(f'{term}\\n')"
   ]
  },
  {
   "cell_type": "code",
   "execution_count": 496,
   "metadata": {},
   "outputs": [
    {
     "data": {
      "text/html": [
       "<div>\n",
       "<style scoped>\n",
       "    .dataframe tbody tr th:only-of-type {\n",
       "        vertical-align: middle;\n",
       "    }\n",
       "\n",
       "    .dataframe tbody tr th {\n",
       "        vertical-align: top;\n",
       "    }\n",
       "\n",
       "    .dataframe thead th {\n",
       "        text-align: right;\n",
       "    }\n",
       "</style>\n",
       "<table border=\"1\" class=\"dataframe\">\n",
       "  <thead>\n",
       "    <tr style=\"text-align: right;\">\n",
       "      <th></th>\n",
       "      <th>external_id</th>\n",
       "      <th>name</th>\n",
       "      <th>winery_name</th>\n",
       "      <th>type</th>\n",
       "      <th>storage_area</th>\n",
       "      <th>size</th>\n",
       "      <th>vintage</th>\n",
       "      <th>price</th>\n",
       "      <th>info</th>\n",
       "      <th>quantity</th>\n",
       "      <th>internal_notes</th>\n",
       "    </tr>\n",
       "  </thead>\n",
       "  <tbody>\n",
       "    <tr>\n",
       "      <th>15</th>\n",
       "      <td>16</td>\n",
       "      <td>champagne &amp; ...</td>\n",
       "      <td></td>\n",
       "      <td></td>\n",
       "      <td></td>\n",
       "      <td>BOTTLE</td>\n",
       "      <td>None</td>\n",
       "      <td>NaN</td>\n",
       "      <td></td>\n",
       "      <td>0.0</td>\n",
       "      <td></td>\n",
       "    </tr>\n",
       "    <tr>\n",
       "      <th>16</th>\n",
       "      <td>17</td>\n",
       "      <td>champagne cuvée brut</td>\n",
       "      <td>Laurent Perrier</td>\n",
       "      <td></td>\n",
       "      <td></td>\n",
       "      <td>BOTTLE</td>\n",
       "      <td>None</td>\n",
       "      <td>80.0</td>\n",
       "      <td></td>\n",
       "      <td>2.0</td>\n",
       "      <td></td>\n",
       "    </tr>\n",
       "    <tr>\n",
       "      <th>17</th>\n",
       "      <td>18</td>\n",
       "      <td>champagne millesimato</td>\n",
       "      <td>Laurent Perrier</td>\n",
       "      <td></td>\n",
       "      <td></td>\n",
       "      <td>BOTTLE</td>\n",
       "      <td>04</td>\n",
       "      <td>95.0</td>\n",
       "      <td></td>\n",
       "      <td>NaN</td>\n",
       "      <td></td>\n",
       "    </tr>\n",
       "  </tbody>\n",
       "</table>\n",
       "</div>"
      ],
      "text/plain": [
       "    external_id                   name      winery_name type storage_area  \\\n",
       "15           16        champagne & ...                                      \n",
       "16           17   champagne cuvée brut  Laurent Perrier                     \n",
       "17           18  champagne millesimato  Laurent Perrier                     \n",
       "\n",
       "      size vintage price info  quantity internal_notes  \n",
       "15  BOTTLE    None   NaN            0.0                 \n",
       "16  BOTTLE    None  80.0            2.0                 \n",
       "17  BOTTLE      04  95.0            NaN                 "
      ]
     },
     "execution_count": 496,
     "metadata": {},
     "output_type": "execute_result"
    }
   ],
   "source": [
    "wines_out.loc[[15,16,17]]"
   ]
  }
 ],
 "metadata": {
  "kernelspec": {
   "display_name": "Python 3.10.6 64-bit",
   "language": "python",
   "name": "python3"
  },
  "language_info": {
   "codemirror_mode": {
    "name": "ipython",
    "version": 3
   },
   "file_extension": ".py",
   "mimetype": "text/x-python",
   "name": "python",
   "nbconvert_exporter": "python",
   "pygments_lexer": "ipython3",
   "version": "3.8.18"
  },
  "orig_nbformat": 4,
  "vscode": {
   "interpreter": {
    "hash": "916dbcbb3f70747c44a77c7bcd40155683ae19c65e1c03b4aa3499c5328201f1"
   }
  }
 },
 "nbformat": 4,
 "nbformat_minor": 2
}
