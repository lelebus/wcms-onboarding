{
 "cells": [
  {
   "cell_type": "code",
   "execution_count": null,
   "metadata": {},
   "outputs": [],
   "source": [
    "from queries import *\n",
    "import json\n",
    "\n",
    "%load_ext autoreload\n",
    "%autoreload 2"
   ]
  },
  {
   "cell_type": "code",
   "execution_count": null,
   "metadata": {},
   "outputs": [],
   "source": [
    "with open('explanation.json', 'w') as f:\n",
    "    hits = query_explain('barbaresco gallina', 'ceretto', 'RED')\n",
    "    # hits = query_explain('barbaresco', 'ceretto', 'RED')\n",
    "    json.dump(hits, f, indent=2)"
   ]
  },
  {
   "cell_type": "code",
   "execution_count": null,
   "metadata": {},
   "outputs": [],
   "source": [
    "with open('bbb.json', 'w') as f:\n",
    "    bbb = query_es_clean('barbaresco gallina', 'ceretto', 'RED')\n",
    "    json.dump(bbb, f, indent=2)"
   ]
  },
  {
   "cell_type": "markdown",
   "metadata": {},
   "source": [
    "# Analysis of v3 Dataframes"
   ]
  },
  {
   "cell_type": "code",
   "execution_count": null,
   "metadata": {},
   "outputs": [],
   "source": [
    "import os\n",
    "import numpy as np\n",
    "import pandas as pd\n",
    "import matplotlib.pyplot as plt"
   ]
  },
  {
   "cell_type": "markdown",
   "metadata": {},
   "source": [
    "Concatenate all datasets, and perform cleanup. The cleanup steps are:\n",
    "\n",
    " - add client column\n",
    " - remove null scores (for some reason, only laite has them)\n",
    " - convert `'ok'` column from `str` to `bool` (for some reason, only for vinessa)"
   ]
  },
  {
   "cell_type": "code",
   "execution_count": null,
   "metadata": {},
   "outputs": [],
   "source": [
    "dfs = []\n",
    "\n",
    "for element in os.listdir('./'):\n",
    "    element_path = os.path.join('./', element)\n",
    "    if not os.path.isdir(element_path) or element=='__pycache__' or '.' in element:\n",
    "        continue\n",
    "    df = pd.read_csv(os.path.join(element_path, 'v3-selection.csv'))\n",
    "\n",
    "    # cleanup\n",
    "    df['client'] = element\n",
    "    df = df.loc[~df['score'].isna()]\n",
    "    df['ok'] = df['ok'].apply(bool)\n",
    "    dfs.append(df)\n",
    "\n",
    "df = pd.concat(dfs, ignore_index=True)\n",
    "df"
   ]
  },
  {
   "cell_type": "code",
   "execution_count": null,
   "metadata": {},
   "outputs": [],
   "source": [
    "df_ok = df.loc[df['ok']==True]\n",
    "df_not = df.loc[df['ok']==False]\n",
    "\n",
    "display(pd.DataFrame({'OK': df_ok['score'].describe(), 'NOT OK': df_not['score'].describe()}))\n",
    "\n",
    "fig, ax = plt.subplots()\n",
    "\n",
    "bins = np.arange(0, 105, 2)\n",
    "df_ok['score'].hist(ax=ax, bins=bins, density=True, alpha=0.5)\n",
    "df_not['score'].hist(ax=ax, bins=bins, density=True, alpha=0.5)\n",
    "\n",
    "df_ok['score'].plot.kde(ax=ax, color='C0')\n",
    "df_not['score'].plot.kde(ax=ax, color='C1')\n",
    "\n",
    "ax.set_xlim(bins[0], bins[-1])\n",
    "\n",
    "plt.show()"
   ]
  },
  {
   "cell_type": "code",
   "execution_count": null,
   "metadata": {},
   "outputs": [],
   "source": [
    "from scipy.stats import gaussian_kde\n",
    "\n",
    "padding = 10\n",
    "eval_range = np.linspace(df['score'].min()-padding, df['score'].max()+padding, 1001)\n",
    "eval_step = eval_range[1] - eval_range[0]\n",
    "\n",
    "kernel_ok = gaussian_kde(df_ok['score'])\n",
    "kernel_not = gaussian_kde(df_not['score'])\n",
    "\n",
    "dist_ok = kernel_ok(eval_range)\n",
    "dist_not = kernel_not(eval_range)\n",
    "\n",
    "print(f'Area of OK: {dist_ok.sum()*eval_step:.3f}')\n",
    "print(f'Area of NOT: {dist_not.sum()*eval_step:.3f}')\n",
    "\n",
    "overlap = np.minimum(dist_ok, dist_not).sum()*eval_step\n",
    "union = np.maximum(dist_ok, dist_not).sum()*eval_step\n",
    "iou = overlap/union\n",
    "\n",
    "plt.plot(eval_range, dist_ok)\n",
    "plt.plot(eval_range, dist_not)\n",
    "\n",
    "print(f'Overlap: {overlap:.3f}')\n",
    "print(f'Union: {union:.3f}')\n",
    "print(f'IoU: {iou:.3f}')"
   ]
  },
  {
   "cell_type": "markdown",
   "metadata": {},
   "source": [
    "# Analysis on all-selections"
   ]
  },
  {
   "cell_type": "code",
   "execution_count": null,
   "metadata": {},
   "outputs": [],
   "source": [
    "import numpy as np\n",
    "import pandas as pd\n",
    "import matplotlib.pyplot as plt\n",
    "from queries import query_by_id"
   ]
  },
  {
   "cell_type": "code",
   "execution_count": null,
   "metadata": {},
   "outputs": [],
   "source": [
    "df_original = pd.read_csv('all-selections.csv')\n",
    "df_original.head()"
   ]
  },
  {
   "cell_type": "markdown",
   "metadata": {},
   "source": [
    "Extract only the useful columns:\n",
    " - `'name'`\n",
    " - `'winery_name'`\n",
    " - `'type'`\n",
    " - `'matched_id'`\n",
    "\n",
    "And rename `'matched_id'` to `'correct_id'`.\n",
    "\n",
    "This is because the only correct match is `'matched_id'`, and the columns `'matched_name'`, `'matched_winery_name'` are incorrect. I have to build them again by querying the ElasticSearch index by id."
   ]
  },
  {
   "cell_type": "code",
   "execution_count": null,
   "metadata": {},
   "outputs": [],
   "source": [
    "df = df_original.get(['name', 'winery_name', 'type', 'matched_id'])\n",
    "df = df.rename(columns={'matched_id': 'correct_id'})\n",
    "df.head()"
   ]
  },
  {
   "cell_type": "code",
   "execution_count": null,
   "metadata": {},
   "outputs": [],
   "source": [
    "df['correct_id'].__len__()"
   ]
  },
  {
   "cell_type": "code",
   "execution_count": null,
   "metadata": {},
   "outputs": [],
   "source": [
    "df['responses'] = df['correct_id'].apply(query_by_id)"
   ]
  },
  {
   "cell_type": "code",
   "execution_count": null,
   "metadata": {},
   "outputs": [],
   "source": [
    "for i, wine_id in enumerate(df['correct_id']):\n",
    "    print(i, end='\\r')\n",
    "    query_by_id(wine_id)"
   ]
  },
  {
   "cell_type": "code",
   "execution_count": null,
   "metadata": {},
   "outputs": [],
   "source": [
    "list(df['correct_id'])[:10]"
   ]
  },
  {
   "cell_type": "code",
   "execution_count": null,
   "metadata": {},
   "outputs": [],
   "source": [
    "response = query_by_id(list(df['correct_id'])[:10])\n",
    "response"
   ]
  }
 ],
 "metadata": {
  "kernelspec": {
   "display_name": "vinoteqa",
   "language": "python",
   "name": "python3"
  },
  "language_info": {
   "codemirror_mode": {
    "name": "ipython",
    "version": 3
   },
   "file_extension": ".py",
   "mimetype": "text/x-python",
   "name": "python",
   "nbconvert_exporter": "python",
   "pygments_lexer": "ipython3",
   "version": "3.11.6"
  }
 },
 "nbformat": 4,
 "nbformat_minor": 2
}
