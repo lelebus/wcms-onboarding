{
 "cells": [
  {
   "cell_type": "markdown",
   "metadata": {},
   "source": [
    "# Prepare wines from a dirty list\n",
    "\n",
    "Load a CSV of wines (aka winelist) and clean the data to get it ready to run it through the matching algorithm.\n"
   ]
  },
  {
   "cell_type": "code",
   "execution_count": 55,
   "metadata": {},
   "outputs": [
    {
     "name": "stdout",
     "output_type": "stream",
     "text": [
      "The autoreload extension is already loaded. To reload it, use:\n",
      "  %reload_ext autoreload\n"
     ]
    }
   ],
   "source": [
    "import pandas as pd\n",
    "\n",
    "%load_ext autoreload\n",
    "%autoreload 2\n"
   ]
  },
  {
   "cell_type": "markdown",
   "metadata": {},
   "source": [
    "### Load dirty winelist file and perform cleaning\n"
   ]
  },
  {
   "cell_type": "code",
   "execution_count": 56,
   "metadata": {},
   "outputs": [
    {
     "name": "stdout",
     "output_type": "stream",
     "text": [
      "Total rows: 133\n",
      "\n"
     ]
    },
    {
     "data": {
      "text/html": [
       "<div>\n",
       "<style scoped>\n",
       "    .dataframe tbody tr th:only-of-type {\n",
       "        vertical-align: middle;\n",
       "    }\n",
       "\n",
       "    .dataframe tbody tr th {\n",
       "        vertical-align: top;\n",
       "    }\n",
       "\n",
       "    .dataframe thead th {\n",
       "        text-align: right;\n",
       "    }\n",
       "</style>\n",
       "<table border=\"1\" class=\"dataframe\">\n",
       "  <thead>\n",
       "    <tr style=\"text-align: right;\">\n",
       "      <th></th>\n",
       "      <th>full_details</th>\n",
       "      <th>size</th>\n",
       "    </tr>\n",
       "  </thead>\n",
       "  <tbody>\n",
       "    <tr>\n",
       "      <th>0</th>\n",
       "      <td>Domaine parent corton les renardes grand cru 1...</td>\n",
       "      <td>BOTTLE</td>\n",
       "    </tr>\n",
       "    <tr>\n",
       "      <th>1</th>\n",
       "      <td>Laboure roi clos de vougeot grand cru 2003 +1</td>\n",
       "      <td>BOTTLE</td>\n",
       "    </tr>\n",
       "    <tr>\n",
       "      <th>2</th>\n",
       "      <td>Laboure roi echezeaux grand cru 2003 +1</td>\n",
       "      <td>BOTTLE</td>\n",
       "    </tr>\n",
       "    <tr>\n",
       "      <th>3</th>\n",
       "      <td>Laboure roi pommard les rugiens 1er cru 2003 +2</td>\n",
       "      <td>BOTTLE</td>\n",
       "    </tr>\n",
       "    <tr>\n",
       "      <th>4</th>\n",
       "      <td>Jaboulet vercherre charmes chambertin 1982+1</td>\n",
       "      <td>BOTTLE</td>\n",
       "    </tr>\n",
       "  </tbody>\n",
       "</table>\n",
       "</div>"
      ],
      "text/plain": [
       "                                        full_details    size\n",
       "0  Domaine parent corton les renardes grand cru 1...  BOTTLE\n",
       "1      Laboure roi clos de vougeot grand cru 2003 +1  BOTTLE\n",
       "2            Laboure roi echezeaux grand cru 2003 +1  BOTTLE\n",
       "3    Laboure roi pommard les rugiens 1er cru 2003 +2  BOTTLE\n",
       "4       Jaboulet vercherre charmes chambertin 1982+1  BOTTLE"
      ]
     },
     "execution_count": 56,
     "metadata": {},
     "output_type": "execute_result"
    }
   ],
   "source": [
    "wines = pd.read_csv('v1-cleaned.csv')\n",
    "print(f'Total rows: {wines.shape[0]}')\n",
    "print()\n",
    "\n",
    "wines.head()\n"
   ]
  },
  {
   "cell_type": "markdown",
   "metadata": {},
   "source": [
    "We need the following fields:\n",
    "\n",
    "- `external_id`\n",
    "- `name`\n",
    "- `winery_name`\n",
    "- `type`\n",
    "- `storage_area`\n",
    "- `size`\n",
    "- `vintage`\n",
    "- `price`\n",
    "- `info`\n",
    "- `quantity`\n",
    "- `internal_notes`\n",
    "\n",
    "---\n"
   ]
  },
  {
   "cell_type": "markdown",
   "metadata": {},
   "source": [
    "### Note: This part is always CUSTOM to the client\n"
   ]
  },
  {
   "cell_type": "markdown",
   "metadata": {},
   "source": [
    "Drop rows without full_details or without price.\n",
    "\n",
    "I need to extract some data from `full_details`, such as:\n",
    "- name\n",
    "- winery_name\n",
    "- vintage\n",
    "- size\n",
    "\n",
    "Observations for `full_details` field:\n",
    "- winery and wine name: _WINERY & WINE_ _YEAR_ + _QUANTITY_\n",
    "\n",
    "Other fields:\n",
    "- external_id missing\n",
    "- type missing\n",
    "- area missing\n",
    "- price missing\n"
   ]
  },
  {
   "cell_type": "code",
   "execution_count": 57,
   "metadata": {},
   "outputs": [
    {
     "data": {
      "text/html": [
       "<div>\n",
       "<style scoped>\n",
       "    .dataframe tbody tr th:only-of-type {\n",
       "        vertical-align: middle;\n",
       "    }\n",
       "\n",
       "    .dataframe tbody tr th {\n",
       "        vertical-align: top;\n",
       "    }\n",
       "\n",
       "    .dataframe thead th {\n",
       "        text-align: right;\n",
       "    }\n",
       "</style>\n",
       "<table border=\"1\" class=\"dataframe\">\n",
       "  <thead>\n",
       "    <tr style=\"text-align: right;\">\n",
       "      <th></th>\n",
       "      <th>full_details</th>\n",
       "      <th>size</th>\n",
       "      <th>vintage</th>\n",
       "      <th>quantity</th>\n",
       "      <th>winery_name</th>\n",
       "      <th>name</th>\n",
       "    </tr>\n",
       "  </thead>\n",
       "  <tbody>\n",
       "    <tr>\n",
       "      <th>0</th>\n",
       "      <td>Domaine parent corton les renardes grand cru</td>\n",
       "      <td>BOTTLE</td>\n",
       "      <td>1998</td>\n",
       "      <td>2</td>\n",
       "      <td>Domaine parent corton les renardes grand cru</td>\n",
       "      <td>Domaine parent corton les renardes grand cru</td>\n",
       "    </tr>\n",
       "    <tr>\n",
       "      <th>1</th>\n",
       "      <td>Laboure roi clos de vougeot grand cru</td>\n",
       "      <td>BOTTLE</td>\n",
       "      <td>2003</td>\n",
       "      <td>1</td>\n",
       "      <td>Laboure roi clos de vougeot grand cru</td>\n",
       "      <td>Laboure roi clos de vougeot grand cru</td>\n",
       "    </tr>\n",
       "    <tr>\n",
       "      <th>2</th>\n",
       "      <td>Laboure roi echezeaux grand cru</td>\n",
       "      <td>BOTTLE</td>\n",
       "      <td>2003</td>\n",
       "      <td>1</td>\n",
       "      <td>Laboure roi echezeaux grand cru</td>\n",
       "      <td>Laboure roi echezeaux grand cru</td>\n",
       "    </tr>\n",
       "    <tr>\n",
       "      <th>3</th>\n",
       "      <td>Laboure roi pommard les rugiens 1er cru</td>\n",
       "      <td>BOTTLE</td>\n",
       "      <td>2003</td>\n",
       "      <td>2</td>\n",
       "      <td>Laboure roi pommard les rugiens 1er cru</td>\n",
       "      <td>Laboure roi pommard les rugiens 1er cru</td>\n",
       "    </tr>\n",
       "    <tr>\n",
       "      <th>4</th>\n",
       "      <td>Jaboulet vercherre charmes chambertin</td>\n",
       "      <td>BOTTLE</td>\n",
       "      <td>1982</td>\n",
       "      <td>1</td>\n",
       "      <td>Jaboulet vercherre charmes chambertin</td>\n",
       "      <td>Jaboulet vercherre charmes chambertin</td>\n",
       "    </tr>\n",
       "  </tbody>\n",
       "</table>\n",
       "</div>"
      ],
      "text/plain": [
       "                                     full_details    size vintage quantity   \n",
       "0  Domaine parent corton les renardes grand cru    BOTTLE    1998        2  \\\n",
       "1         Laboure roi clos de vougeot grand cru    BOTTLE    2003        1   \n",
       "2               Laboure roi echezeaux grand cru    BOTTLE    2003        1   \n",
       "3       Laboure roi pommard les rugiens 1er cru    BOTTLE    2003        2   \n",
       "4          Jaboulet vercherre charmes chambertin   BOTTLE    1982        1   \n",
       "\n",
       "                                      winery_name   \n",
       "0  Domaine parent corton les renardes grand cru    \\\n",
       "1         Laboure roi clos de vougeot grand cru     \n",
       "2               Laboure roi echezeaux grand cru     \n",
       "3       Laboure roi pommard les rugiens 1er cru     \n",
       "4          Jaboulet vercherre charmes chambertin    \n",
       "\n",
       "                                             name  \n",
       "0  Domaine parent corton les renardes grand cru    \n",
       "1         Laboure roi clos de vougeot grand cru    \n",
       "2               Laboure roi echezeaux grand cru    \n",
       "3       Laboure roi pommard les rugiens 1er cru    \n",
       "4          Jaboulet vercherre charmes chambertin   "
      ]
     },
     "execution_count": 57,
     "metadata": {},
     "output_type": "execute_result"
    }
   ],
   "source": [
    "import re\n",
    "\n",
    "# extract data from full_details\n",
    "for idx, wine in wines.iterrows():\n",
    "    # extract vintage year and remove it from full_details\n",
    "    vintage = re.search(r'\\d{4}', wine['full_details'])\n",
    "    if vintage:\n",
    "        wines.at[idx, 'vintage'] = vintage.group(0)\n",
    "        wines.at[idx, 'full_details'] = wine['full_details'].replace(\n",
    "            vintage.group(0), '')\n",
    "    else:\n",
    "        wines.at[idx, 'vintage'] = None\n",
    "\n",
    "    # extract quantity and remove it from full_details (it is after the + sign)\n",
    "    quantity = re.search(r'\\+\\s*(\\d+)', wine['full_details'])\n",
    "    if quantity:\n",
    "        wines.at[idx, 'quantity'] = quantity.group(1)\n",
    "        wines.at[idx, 'full_details'] = wine['full_details'].replace(\n",
    "            quantity.group(0), '')\n",
    "    else:\n",
    "        wines.at[idx, 'quantity'] = 0\n",
    "\n",
    "    # wine and winery name are non distinguishable in full_details\n",
    "    wines.at[idx, 'winery_name'] = wine['full_details']\n",
    "    wines.at[idx, 'name'] = wine['full_details']\n",
    "\n",
    "wines.head()\n"
   ]
  },
  {
   "cell_type": "code",
   "execution_count": 58,
   "metadata": {},
   "outputs": [],
   "source": [
    "\n",
    "# empty external_id\n",
    "wines['external_id'] = ''\n",
    "\n",
    "# empty type\n",
    "wines['type'] = ''\n",
    "\n",
    "# add empty area\n",
    "wines['storage_area'] = ''\n",
    "\n",
    "# add empty details\n",
    "wines['info'] = ''\n",
    "\n",
    "# add empty price\n",
    "wines['price'] = 0\n",
    "\n",
    "# add empty internal_notes\n",
    "wines['internal_notes'] = ''\n"
   ]
  },
  {
   "cell_type": "code",
   "execution_count": 59,
   "metadata": {},
   "outputs": [
    {
     "name": "stdout",
     "output_type": "stream",
     "text": [
      "['BOTTLE' 'MAGNUM']\n"
     ]
    }
   ],
   "source": [
    "# clean sizes\n",
    "print(wines['size'].unique())"
   ]
  },
  {
   "cell_type": "code",
   "execution_count": 60,
   "metadata": {},
   "outputs": [
    {
     "data": {
      "text/html": [
       "<div>\n",
       "<style scoped>\n",
       "    .dataframe tbody tr th:only-of-type {\n",
       "        vertical-align: middle;\n",
       "    }\n",
       "\n",
       "    .dataframe tbody tr th {\n",
       "        vertical-align: top;\n",
       "    }\n",
       "\n",
       "    .dataframe thead th {\n",
       "        text-align: right;\n",
       "    }\n",
       "</style>\n",
       "<table border=\"1\" class=\"dataframe\">\n",
       "  <thead>\n",
       "    <tr style=\"text-align: right;\">\n",
       "      <th></th>\n",
       "      <th>full_details</th>\n",
       "      <th>size</th>\n",
       "      <th>vintage</th>\n",
       "      <th>quantity</th>\n",
       "      <th>winery_name</th>\n",
       "      <th>name</th>\n",
       "      <th>external_id</th>\n",
       "      <th>type</th>\n",
       "      <th>storage_area</th>\n",
       "      <th>info</th>\n",
       "      <th>price</th>\n",
       "      <th>internal_notes</th>\n",
       "    </tr>\n",
       "  </thead>\n",
       "  <tbody>\n",
       "    <tr>\n",
       "      <th>0</th>\n",
       "      <td>Domaine parent corton les renardes grand cru</td>\n",
       "      <td>BOTTLE</td>\n",
       "      <td>1998</td>\n",
       "      <td>2</td>\n",
       "      <td>Domaine parent corton les renardes grand cru</td>\n",
       "      <td>Domaine parent corton les renardes grand cru</td>\n",
       "      <td></td>\n",
       "      <td></td>\n",
       "      <td></td>\n",
       "      <td></td>\n",
       "      <td>0</td>\n",
       "      <td></td>\n",
       "    </tr>\n",
       "    <tr>\n",
       "      <th>1</th>\n",
       "      <td>Laboure roi clos de vougeot grand cru</td>\n",
       "      <td>BOTTLE</td>\n",
       "      <td>2003</td>\n",
       "      <td>1</td>\n",
       "      <td>Laboure roi clos de vougeot grand cru</td>\n",
       "      <td>Laboure roi clos de vougeot grand cru</td>\n",
       "      <td></td>\n",
       "      <td></td>\n",
       "      <td></td>\n",
       "      <td></td>\n",
       "      <td>0</td>\n",
       "      <td></td>\n",
       "    </tr>\n",
       "    <tr>\n",
       "      <th>2</th>\n",
       "      <td>Laboure roi echezeaux grand cru</td>\n",
       "      <td>BOTTLE</td>\n",
       "      <td>2003</td>\n",
       "      <td>1</td>\n",
       "      <td>Laboure roi echezeaux grand cru</td>\n",
       "      <td>Laboure roi echezeaux grand cru</td>\n",
       "      <td></td>\n",
       "      <td></td>\n",
       "      <td></td>\n",
       "      <td></td>\n",
       "      <td>0</td>\n",
       "      <td></td>\n",
       "    </tr>\n",
       "    <tr>\n",
       "      <th>3</th>\n",
       "      <td>Laboure roi pommard les rugiens 1er cru</td>\n",
       "      <td>BOTTLE</td>\n",
       "      <td>2003</td>\n",
       "      <td>2</td>\n",
       "      <td>Laboure roi pommard les rugiens 1er cru</td>\n",
       "      <td>Laboure roi pommard les rugiens 1er cru</td>\n",
       "      <td></td>\n",
       "      <td></td>\n",
       "      <td></td>\n",
       "      <td></td>\n",
       "      <td>0</td>\n",
       "      <td></td>\n",
       "    </tr>\n",
       "    <tr>\n",
       "      <th>4</th>\n",
       "      <td>Jaboulet vercherre charmes chambertin</td>\n",
       "      <td>BOTTLE</td>\n",
       "      <td>1982</td>\n",
       "      <td>1</td>\n",
       "      <td>Jaboulet vercherre charmes chambertin</td>\n",
       "      <td>Jaboulet vercherre charmes chambertin</td>\n",
       "      <td></td>\n",
       "      <td></td>\n",
       "      <td></td>\n",
       "      <td></td>\n",
       "      <td>0</td>\n",
       "      <td></td>\n",
       "    </tr>\n",
       "  </tbody>\n",
       "</table>\n",
       "</div>"
      ],
      "text/plain": [
       "                                     full_details    size vintage quantity   \n",
       "0  Domaine parent corton les renardes grand cru    BOTTLE    1998        2  \\\n",
       "1         Laboure roi clos de vougeot grand cru    BOTTLE    2003        1   \n",
       "2               Laboure roi echezeaux grand cru    BOTTLE    2003        1   \n",
       "3       Laboure roi pommard les rugiens 1er cru    BOTTLE    2003        2   \n",
       "4          Jaboulet vercherre charmes chambertin   BOTTLE    1982        1   \n",
       "\n",
       "                                      winery_name   \n",
       "0  Domaine parent corton les renardes grand cru    \\\n",
       "1         Laboure roi clos de vougeot grand cru     \n",
       "2               Laboure roi echezeaux grand cru     \n",
       "3       Laboure roi pommard les rugiens 1er cru     \n",
       "4          Jaboulet vercherre charmes chambertin    \n",
       "\n",
       "                                             name external_id type   \n",
       "0  Domaine parent corton les renardes grand cru                     \\\n",
       "1         Laboure roi clos de vougeot grand cru                      \n",
       "2               Laboure roi echezeaux grand cru                      \n",
       "3       Laboure roi pommard les rugiens 1er cru                      \n",
       "4          Jaboulet vercherre charmes chambertin                     \n",
       "\n",
       "  storage_area info  price internal_notes  \n",
       "0                        0                 \n",
       "1                        0                 \n",
       "2                        0                 \n",
       "3                        0                 \n",
       "4                        0                 "
      ]
     },
     "execution_count": 60,
     "metadata": {},
     "output_type": "execute_result"
    }
   ],
   "source": [
    "wines.head()\n"
   ]
  },
  {
   "cell_type": "markdown",
   "metadata": {},
   "source": [
    "### This part is still CUSTOM but more or less it is needed for all onboardings"
   ]
  },
  {
   "cell_type": "code",
   "execution_count": 61,
   "metadata": {},
   "outputs": [
    {
     "name": "stdout",
     "output_type": "stream",
     "text": [
      "Total rows: 133\n"
     ]
    }
   ],
   "source": [
    "# drop duplicates\n",
    "wines = wines.drop_duplicates()\n",
    "\n",
    "print(f'Total rows: {wines.shape[0]}')"
   ]
  },
  {
   "cell_type": "markdown",
   "metadata": {},
   "source": [
    "### Save new version of the winelist"
   ]
  },
  {
   "cell_type": "code",
   "execution_count": 62,
   "metadata": {},
   "outputs": [],
   "source": [
    "open('v2-cleaned.csv', 'w').close()\n",
    "wines.drop(columns=['full_details'], inplace=True)\n",
    "wines.to_csv('v2-cleaned.csv', index=False)"
   ]
  },
  {
   "cell_type": "markdown",
   "metadata": {},
   "source": [
    "### Print search terms\n",
    "\n",
    "**NOTE: Before proceeding with the matching algorithm, run the viviner and insert new wines.**"
   ]
  },
  {
   "cell_type": "code",
   "execution_count": 63,
   "metadata": {},
   "outputs": [],
   "source": [
    "with open('search-terms.txt', 'w') as f:\n",
    "    for term in wines['name'].unique():\n",
    "        f.write(f'{term}\\n')\n",
    "    for term in wines['winery_name'].unique():\n",
    "        f.write(f'{term}\\n')"
   ]
  }
 ],
 "metadata": {
  "kernelspec": {
   "display_name": "Python 3.10.6 64-bit",
   "language": "python",
   "name": "python3"
  },
  "language_info": {
   "codemirror_mode": {
    "name": "ipython",
    "version": 3
   },
   "file_extension": ".py",
   "mimetype": "text/x-python",
   "name": "python",
   "nbconvert_exporter": "python",
   "pygments_lexer": "ipython3",
   "version": "3.10.6"
  },
  "orig_nbformat": 4,
  "vscode": {
   "interpreter": {
    "hash": "916dbcbb3f70747c44a77c7bcd40155683ae19c65e1c03b4aa3499c5328201f1"
   }
  }
 },
 "nbformat": 4,
 "nbformat_minor": 2
}
