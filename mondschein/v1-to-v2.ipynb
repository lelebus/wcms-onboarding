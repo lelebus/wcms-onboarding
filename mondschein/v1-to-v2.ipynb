{
 "cells": [
  {
   "cell_type": "markdown",
   "metadata": {},
   "source": [
    "# Prepare wines from a dirty list\n",
    "\n",
    "Load a CSV of wines (aka winelist) and clean the data to get it ready to run it through the matching algorithm.\n"
   ]
  },
  {
   "cell_type": "code",
   "execution_count": 56,
   "metadata": {},
   "outputs": [
    {
     "name": "stdout",
     "output_type": "stream",
     "text": [
      "The autoreload extension is already loaded. To reload it, use:\n",
      "  %reload_ext autoreload\n"
     ]
    }
   ],
   "source": [
    "import pandas as pd\n",
    "\n",
    "%load_ext autoreload\n",
    "%autoreload 2\n"
   ]
  },
  {
   "cell_type": "markdown",
   "metadata": {},
   "source": [
    "### Load dirty winelist file and perform cleaning\n"
   ]
  },
  {
   "cell_type": "code",
   "execution_count": 57,
   "metadata": {},
   "outputs": [
    {
     "name": "stdout",
     "output_type": "stream",
     "text": [
      "Total rows: 1159\n",
      "\n"
     ]
    },
    {
     "data": {
      "text/html": [
       "<div>\n",
       "<style scoped>\n",
       "    .dataframe tbody tr th:only-of-type {\n",
       "        vertical-align: middle;\n",
       "    }\n",
       "\n",
       "    .dataframe tbody tr th {\n",
       "        vertical-align: top;\n",
       "    }\n",
       "\n",
       "    .dataframe thead th {\n",
       "        text-align: right;\n",
       "    }\n",
       "</style>\n",
       "<table border=\"1\" class=\"dataframe\">\n",
       "  <thead>\n",
       "    <tr style=\"text-align: right;\">\n",
       "      <th></th>\n",
       "      <th>type</th>\n",
       "      <th>full_details</th>\n",
       "      <th>size</th>\n",
       "      <th>price</th>\n",
       "      <th>internal_info</th>\n",
       "    </tr>\n",
       "  </thead>\n",
       "  <tbody>\n",
       "    <tr>\n",
       "      <th>0</th>\n",
       "      <td>NaN</td>\n",
       "      <td>Prosecco</td>\n",
       "      <td>NaN</td>\n",
       "      <td>NaN</td>\n",
       "      <td>NaN</td>\n",
       "    </tr>\n",
       "    <tr>\n",
       "      <th>1</th>\n",
       "      <td>SPARKLING</td>\n",
       "      <td>VEDOVA Extra Dry Superiore Millesimato 2022</td>\n",
       "      <td>0.75</td>\n",
       "      <td>€ 25.00</td>\n",
       "      <td>https://www.shop-cantinevedova.com/it/rive-mil...</td>\n",
       "    </tr>\n",
       "    <tr>\n",
       "      <th>2</th>\n",
       "      <td>SPARKLING</td>\n",
       "      <td>NaN</td>\n",
       "      <td>0.75</td>\n",
       "      <td>NaN</td>\n",
       "      <td>NaN</td>\n",
       "    </tr>\n",
       "    <tr>\n",
       "      <th>3</th>\n",
       "      <td>SPARKLING</td>\n",
       "      <td>Franciacorta</td>\n",
       "      <td>0.75</td>\n",
       "      <td>NaN</td>\n",
       "      <td>NaN</td>\n",
       "    </tr>\n",
       "    <tr>\n",
       "      <th>4</th>\n",
       "      <td>SPARKLING</td>\n",
       "      <td>BELLAVISTA Grand Cuvèe ALMA Brut</td>\n",
       "      <td>0.75</td>\n",
       "      <td>€ 56.00</td>\n",
       "      <td>https://www.bellavistawine.it/Public/images/16...</td>\n",
       "    </tr>\n",
       "  </tbody>\n",
       "</table>\n",
       "</div>"
      ],
      "text/plain": [
       "        type                                 full_details  size    price   \n",
       "0        NaN                                     Prosecco   NaN      NaN  \\\n",
       "1  SPARKLING  VEDOVA Extra Dry Superiore Millesimato 2022  0.75  € 25.00   \n",
       "2  SPARKLING                                          NaN  0.75      NaN   \n",
       "3  SPARKLING                                 Franciacorta  0.75      NaN   \n",
       "4  SPARKLING             BELLAVISTA Grand Cuvèe ALMA Brut  0.75  € 56.00   \n",
       "\n",
       "                                       internal_info  \n",
       "0                                                NaN  \n",
       "1  https://www.shop-cantinevedova.com/it/rive-mil...  \n",
       "2                                                NaN  \n",
       "3                                                NaN  \n",
       "4  https://www.bellavistawine.it/Public/images/16...  "
      ]
     },
     "execution_count": 57,
     "metadata": {},
     "output_type": "execute_result"
    }
   ],
   "source": [
    "wines = pd.read_csv('v1-cleaned.csv')\n",
    "print(f'Total rows: {wines.shape[0]}')\n",
    "print()\n",
    "\n",
    "wines.head()\n"
   ]
  },
  {
   "cell_type": "markdown",
   "metadata": {},
   "source": [
    "We need the following fields:\n",
    "\n",
    "- `name`\n",
    "- `winery_name`\n",
    "- `type`\n",
    "- `area`\n",
    "- `size`\n",
    "- `vintage`\n",
    "- `price` (parse to int)\n",
    "- `info`\n",
    "- `internal_notes`\n",
    "\n",
    "---\n"
   ]
  },
  {
   "cell_type": "markdown",
   "metadata": {},
   "source": [
    "### Note: This part is always CUSTOM to the client\n"
   ]
  },
  {
   "cell_type": "markdown",
   "metadata": {},
   "source": [
    "Drop rows without full_details or without price.\n",
    "\n",
    "I need to extract the some data from `full_details`, such as:\n",
    "- name\n",
    "- winery_name\n",
    "- vintage\n",
    "\n",
    "Observations for `full_details` field:\n",
    "- winery and wine name are not separated, they are together\n",
    "- vintage: consider the first YYYY\n",
    "- extract what is between parenthesis and use as info\n",
    "\n",
    "Other fields:\n",
    "- size OK\n",
    "- type OK\n",
    "- area missing\n",
    "- price OK but clean the euro symbol\n",
    "- info is empty\n",
    "- internal_notes is a link to technical wine details\n"
   ]
  },
  {
   "cell_type": "code",
   "execution_count": 58,
   "metadata": {},
   "outputs": [
    {
     "name": "stdout",
     "output_type": "stream",
     "text": [
      "Total rows: 966\n"
     ]
    }
   ],
   "source": [
    "# remove rows with no full_details or no price\n",
    "wines = wines[wines['full_details'].notna()]\n",
    "wines = wines[wines['price'].notna()]\n",
    "print(f'Total rows: {wines.shape[0]}')"
   ]
  },
  {
   "cell_type": "code",
   "execution_count": 59,
   "metadata": {},
   "outputs": [
    {
     "data": {
      "text/html": [
       "<div>\n",
       "<style scoped>\n",
       "    .dataframe tbody tr th:only-of-type {\n",
       "        vertical-align: middle;\n",
       "    }\n",
       "\n",
       "    .dataframe tbody tr th {\n",
       "        vertical-align: top;\n",
       "    }\n",
       "\n",
       "    .dataframe thead th {\n",
       "        text-align: right;\n",
       "    }\n",
       "</style>\n",
       "<table border=\"1\" class=\"dataframe\">\n",
       "  <thead>\n",
       "    <tr style=\"text-align: right;\">\n",
       "      <th></th>\n",
       "      <th>type</th>\n",
       "      <th>full_details</th>\n",
       "      <th>size</th>\n",
       "      <th>price</th>\n",
       "      <th>internal_info</th>\n",
       "      <th>vintage</th>\n",
       "      <th>name</th>\n",
       "      <th>winery_name</th>\n",
       "      <th>info</th>\n",
       "    </tr>\n",
       "  </thead>\n",
       "  <tbody>\n",
       "    <tr>\n",
       "      <th>1</th>\n",
       "      <td>SPARKLING</td>\n",
       "      <td>VEDOVA Extra Dry Superiore Millesimato 2022</td>\n",
       "      <td>0.75</td>\n",
       "      <td>€ 25.00</td>\n",
       "      <td>https://www.shop-cantinevedova.com/it/rive-mil...</td>\n",
       "      <td>2022</td>\n",
       "      <td>VEDOVA Extra Dry Superiore Millesimato</td>\n",
       "      <td>VEDOVA Extra Dry Superiore Millesimato</td>\n",
       "      <td>NaN</td>\n",
       "    </tr>\n",
       "    <tr>\n",
       "      <th>4</th>\n",
       "      <td>SPARKLING</td>\n",
       "      <td>BELLAVISTA Grand Cuvèe ALMA Brut</td>\n",
       "      <td>0.75</td>\n",
       "      <td>€ 56.00</td>\n",
       "      <td>https://www.bellavistawine.it/Public/images/16...</td>\n",
       "      <td>NaN</td>\n",
       "      <td>BELLAVISTA Grand Cuvèe ALMA Brut</td>\n",
       "      <td>BELLAVISTA Grand Cuvèe ALMA Brut</td>\n",
       "      <td>NaN</td>\n",
       "    </tr>\n",
       "    <tr>\n",
       "      <th>5</th>\n",
       "      <td>SPARKLING</td>\n",
       "      <td>BELLAVISTA “RISERVA MORETTI” Extra Brut 2013 (...</td>\n",
       "      <td>0.75</td>\n",
       "      <td>€ 129.00</td>\n",
       "      <td>https://www.bellavistawine.it/Public/images/13...</td>\n",
       "      <td>2013</td>\n",
       "      <td>BELLAVISTA “RISERVA MORETTI” Extra Brut</td>\n",
       "      <td>BELLAVISTA “RISERVA MORETTI” Extra Brut</td>\n",
       "      <td>2 - 2004</td>\n",
       "    </tr>\n",
       "    <tr>\n",
       "      <th>6</th>\n",
       "      <td>SPARKLING</td>\n",
       "      <td>BELLAVISTA Saten 2015</td>\n",
       "      <td>0.75</td>\n",
       "      <td>€ 79.00</td>\n",
       "      <td>https://www.bellavistawine.it/Public/images/11...</td>\n",
       "      <td>2015</td>\n",
       "      <td>BELLAVISTA Saten</td>\n",
       "      <td>BELLAVISTA Saten</td>\n",
       "      <td>NaN</td>\n",
       "    </tr>\n",
       "    <tr>\n",
       "      <th>7</th>\n",
       "      <td>SPARKLING</td>\n",
       "      <td>BERLUCCHI “61 NATURE” Brut 2015</td>\n",
       "      <td>0.75</td>\n",
       "      <td>€ 49.00</td>\n",
       "      <td>https://www.berlucchi.it/wp-content/uploads/20...</td>\n",
       "      <td>2015</td>\n",
       "      <td>BERLUCCHI “61 NATURE” Brut</td>\n",
       "      <td>BERLUCCHI “61 NATURE” Brut</td>\n",
       "      <td>NaN</td>\n",
       "    </tr>\n",
       "  </tbody>\n",
       "</table>\n",
       "</div>"
      ],
      "text/plain": [
       "        type                                       full_details  size   \n",
       "1  SPARKLING        VEDOVA Extra Dry Superiore Millesimato 2022  0.75  \\\n",
       "4  SPARKLING                   BELLAVISTA Grand Cuvèe ALMA Brut  0.75   \n",
       "5  SPARKLING  BELLAVISTA “RISERVA MORETTI” Extra Brut 2013 (...  0.75   \n",
       "6  SPARKLING                              BELLAVISTA Saten 2015  0.75   \n",
       "7  SPARKLING                    BERLUCCHI “61 NATURE” Brut 2015  0.75   \n",
       "\n",
       "      price                                      internal_info vintage   \n",
       "1   € 25.00  https://www.shop-cantinevedova.com/it/rive-mil...    2022  \\\n",
       "4   € 56.00  https://www.bellavistawine.it/Public/images/16...     NaN   \n",
       "5  € 129.00  https://www.bellavistawine.it/Public/images/13...    2013   \n",
       "6   € 79.00  https://www.bellavistawine.it/Public/images/11...    2015   \n",
       "7   € 49.00  https://www.berlucchi.it/wp-content/uploads/20...    2015   \n",
       "\n",
       "                                        name   \n",
       "1    VEDOVA Extra Dry Superiore Millesimato   \\\n",
       "4           BELLAVISTA Grand Cuvèe ALMA Brut   \n",
       "5  BELLAVISTA “RISERVA MORETTI” Extra Brut     \n",
       "6                          BELLAVISTA Saten    \n",
       "7                BERLUCCHI “61 NATURE” Brut    \n",
       "\n",
       "                                 winery_name      info  \n",
       "1    VEDOVA Extra Dry Superiore Millesimato        NaN  \n",
       "4           BELLAVISTA Grand Cuvèe ALMA Brut       NaN  \n",
       "5  BELLAVISTA “RISERVA MORETTI” Extra Brut    2 - 2004  \n",
       "6                          BELLAVISTA Saten        NaN  \n",
       "7                BERLUCCHI “61 NATURE” Brut        NaN  "
      ]
     },
     "execution_count": 59,
     "metadata": {},
     "output_type": "execute_result"
    }
   ],
   "source": [
    "import re\n",
    "\n",
    "# extract data from full_details\n",
    "for idx, wine in wines.iterrows():\n",
    "    # extract vintage as first YYYY adn remove it from full_details\n",
    "    vintage = re.search(r'\\b\\d{4}\\b', wine['full_details'])\n",
    "    if vintage:\n",
    "        wines.at[idx, 'vintage'] = vintage.group()\n",
    "        wine['full_details'] = wine['full_details'].replace(\n",
    "            vintage.group(), '')\n",
    "\n",
    "    # extract content of parenthesis, use it as info and remove it from full_details\n",
    "    # since it can be multiples, concat them with a | separator\n",
    "    parenthesis = re.findall(r'\\((.*?)\\)', wine['full_details'])\n",
    "    if parenthesis:\n",
    "        wines.at[idx, 'info'] = ' | '.join(parenthesis)\n",
    "        # for each group, remove it from full_details\n",
    "        for group in parenthesis:\n",
    "            wine['full_details'] = wine['full_details'].replace(\n",
    "                f'({group})', '')\n",
    "\n",
    "    # set wine and winery name as same value (remaining value of full_details)\n",
    "    wines.at[idx, 'name'] = wine['full_details']\n",
    "    wines.at[idx, 'winery_name'] = wine['full_details']\n",
    "\n",
    "wines.head()\n"
   ]
  },
  {
   "cell_type": "code",
   "execution_count": 60,
   "metadata": {},
   "outputs": [],
   "source": [
    "# add empty area\n",
    "wines['area'] = ''"
   ]
  },
  {
   "cell_type": "code",
   "execution_count": 61,
   "metadata": {},
   "outputs": [
    {
     "name": "stdout",
     "output_type": "stream",
     "text": [
      "[0.75  1.5   0.5   0.375]\n"
     ]
    }
   ],
   "source": [
    "# clean sizes\n",
    "print(wines['size'].unique())"
   ]
  },
  {
   "cell_type": "code",
   "execution_count": 62,
   "metadata": {},
   "outputs": [
    {
     "data": {
      "text/html": [
       "<div>\n",
       "<style scoped>\n",
       "    .dataframe tbody tr th:only-of-type {\n",
       "        vertical-align: middle;\n",
       "    }\n",
       "\n",
       "    .dataframe tbody tr th {\n",
       "        vertical-align: top;\n",
       "    }\n",
       "\n",
       "    .dataframe thead th {\n",
       "        text-align: right;\n",
       "    }\n",
       "</style>\n",
       "<table border=\"1\" class=\"dataframe\">\n",
       "  <thead>\n",
       "    <tr style=\"text-align: right;\">\n",
       "      <th></th>\n",
       "      <th>type</th>\n",
       "      <th>full_details</th>\n",
       "      <th>size</th>\n",
       "      <th>price</th>\n",
       "      <th>internal_info</th>\n",
       "      <th>vintage</th>\n",
       "      <th>name</th>\n",
       "      <th>winery_name</th>\n",
       "      <th>info</th>\n",
       "      <th>area</th>\n",
       "    </tr>\n",
       "  </thead>\n",
       "  <tbody>\n",
       "    <tr>\n",
       "      <th>1</th>\n",
       "      <td>SPARKLING</td>\n",
       "      <td>VEDOVA Extra Dry Superiore Millesimato 2022</td>\n",
       "      <td>0.75</td>\n",
       "      <td>25.00</td>\n",
       "      <td>https://www.shop-cantinevedova.com/it/rive-mil...</td>\n",
       "      <td>2022</td>\n",
       "      <td>VEDOVA Extra Dry Superiore Millesimato</td>\n",
       "      <td>VEDOVA Extra Dry Superiore Millesimato</td>\n",
       "      <td>NaN</td>\n",
       "      <td></td>\n",
       "    </tr>\n",
       "    <tr>\n",
       "      <th>4</th>\n",
       "      <td>SPARKLING</td>\n",
       "      <td>BELLAVISTA Grand Cuvèe ALMA Brut</td>\n",
       "      <td>0.75</td>\n",
       "      <td>56.00</td>\n",
       "      <td>https://www.bellavistawine.it/Public/images/16...</td>\n",
       "      <td>NaN</td>\n",
       "      <td>BELLAVISTA Grand Cuvèe ALMA Brut</td>\n",
       "      <td>BELLAVISTA Grand Cuvèe ALMA Brut</td>\n",
       "      <td>NaN</td>\n",
       "      <td></td>\n",
       "    </tr>\n",
       "    <tr>\n",
       "      <th>5</th>\n",
       "      <td>SPARKLING</td>\n",
       "      <td>BELLAVISTA “RISERVA MORETTI” Extra Brut 2013 (...</td>\n",
       "      <td>0.75</td>\n",
       "      <td>129.00</td>\n",
       "      <td>https://www.bellavistawine.it/Public/images/13...</td>\n",
       "      <td>2013</td>\n",
       "      <td>BELLAVISTA “RISERVA MORETTI” Extra Brut</td>\n",
       "      <td>BELLAVISTA “RISERVA MORETTI” Extra Brut</td>\n",
       "      <td>2 - 2004</td>\n",
       "      <td></td>\n",
       "    </tr>\n",
       "    <tr>\n",
       "      <th>6</th>\n",
       "      <td>SPARKLING</td>\n",
       "      <td>BELLAVISTA Saten 2015</td>\n",
       "      <td>0.75</td>\n",
       "      <td>79.00</td>\n",
       "      <td>https://www.bellavistawine.it/Public/images/11...</td>\n",
       "      <td>2015</td>\n",
       "      <td>BELLAVISTA Saten</td>\n",
       "      <td>BELLAVISTA Saten</td>\n",
       "      <td>NaN</td>\n",
       "      <td></td>\n",
       "    </tr>\n",
       "    <tr>\n",
       "      <th>7</th>\n",
       "      <td>SPARKLING</td>\n",
       "      <td>BERLUCCHI “61 NATURE” Brut 2015</td>\n",
       "      <td>0.75</td>\n",
       "      <td>49.00</td>\n",
       "      <td>https://www.berlucchi.it/wp-content/uploads/20...</td>\n",
       "      <td>2015</td>\n",
       "      <td>BERLUCCHI “61 NATURE” Brut</td>\n",
       "      <td>BERLUCCHI “61 NATURE” Brut</td>\n",
       "      <td>NaN</td>\n",
       "      <td></td>\n",
       "    </tr>\n",
       "  </tbody>\n",
       "</table>\n",
       "</div>"
      ],
      "text/plain": [
       "        type                                       full_details  size   \n",
       "1  SPARKLING        VEDOVA Extra Dry Superiore Millesimato 2022  0.75  \\\n",
       "4  SPARKLING                   BELLAVISTA Grand Cuvèe ALMA Brut  0.75   \n",
       "5  SPARKLING  BELLAVISTA “RISERVA MORETTI” Extra Brut 2013 (...  0.75   \n",
       "6  SPARKLING                              BELLAVISTA Saten 2015  0.75   \n",
       "7  SPARKLING                    BERLUCCHI “61 NATURE” Brut 2015  0.75   \n",
       "\n",
       "     price                                      internal_info vintage   \n",
       "1    25.00  https://www.shop-cantinevedova.com/it/rive-mil...    2022  \\\n",
       "4    56.00  https://www.bellavistawine.it/Public/images/16...     NaN   \n",
       "5   129.00  https://www.bellavistawine.it/Public/images/13...    2013   \n",
       "6    79.00  https://www.bellavistawine.it/Public/images/11...    2015   \n",
       "7    49.00  https://www.berlucchi.it/wp-content/uploads/20...    2015   \n",
       "\n",
       "                                        name   \n",
       "1    VEDOVA Extra Dry Superiore Millesimato   \\\n",
       "4           BELLAVISTA Grand Cuvèe ALMA Brut   \n",
       "5  BELLAVISTA “RISERVA MORETTI” Extra Brut     \n",
       "6                          BELLAVISTA Saten    \n",
       "7                BERLUCCHI “61 NATURE” Brut    \n",
       "\n",
       "                                 winery_name      info area  \n",
       "1    VEDOVA Extra Dry Superiore Millesimato        NaN       \n",
       "4           BELLAVISTA Grand Cuvèe ALMA Brut       NaN       \n",
       "5  BELLAVISTA “RISERVA MORETTI” Extra Brut    2 - 2004       \n",
       "6                          BELLAVISTA Saten        NaN       \n",
       "7                BERLUCCHI “61 NATURE” Brut        NaN       "
      ]
     },
     "execution_count": 62,
     "metadata": {},
     "output_type": "execute_result"
    }
   ],
   "source": [
    "# clean prices\n",
    "wines['price'] = wines['price'].str.replace('€', '').str.replace(',', '.')\n",
    "\n",
    "wines.head()\n"
   ]
  },
  {
   "cell_type": "markdown",
   "metadata": {},
   "source": [
    "### This part is still CUSTOM but more or less it is needed for all onboardings"
   ]
  },
  {
   "cell_type": "code",
   "execution_count": 63,
   "metadata": {},
   "outputs": [
    {
     "name": "stdout",
     "output_type": "stream",
     "text": [
      "Total rows: 966\n"
     ]
    }
   ],
   "source": [
    "# drop duplicates\n",
    "wines = wines.drop_duplicates()\n",
    "\n",
    "print(f'Total rows: {wines.shape[0]}')"
   ]
  },
  {
   "cell_type": "code",
   "execution_count": 64,
   "metadata": {},
   "outputs": [],
   "source": [
    "# Define the sizes-to-enum map\n",
    "sizes = {\n",
    "    0.1875: 'GLASS',\n",
    "    0.375: 'HALF_BOTTLE',\n",
    "    0.5: 'HALF_LITER',\n",
    "    0.75: 'BOTTLE',\n",
    "    1: 'LITER',\n",
    "    1.5: 'MAGNUM',\n",
    "    3: 'JEROBOAM',\n",
    "    4.5: 'REHOBOAM',\n",
    "    5: 'BORDEAUX_JEROBOAM',\n",
    "    6: 'MATHUSALEM',\n",
    "    9: 'SALMANAZAR',\n",
    "    12: 'BALTHAZAR',\n",
    "    15: 'NEBUCHADNEZZAR',\n",
    "    18: 'MELCHIOR',\n",
    "    20: 'SOLOMON',\n",
    "    25: 'SOVEREIGN',\n",
    "    27: 'GOLIATH',\n",
    "    30: 'MELCHIZEDEK'\n",
    "}\n",
    "\n",
    "wines['size'] = wines['size'].astype(float).map(sizes)"
   ]
  },
  {
   "cell_type": "markdown",
   "metadata": {},
   "source": [
    "### Save new version of the winelist"
   ]
  },
  {
   "cell_type": "code",
   "execution_count": 65,
   "metadata": {},
   "outputs": [],
   "source": [
    "open('v2-cleaned.csv', 'w').close()\n",
    "wines.drop(columns=['full_details'], inplace=True)\n",
    "wines.to_csv('v2-cleaned.csv', index=False)"
   ]
  },
  {
   "cell_type": "markdown",
   "metadata": {},
   "source": [
    "### Print search terms\n",
    "\n",
    "**NOTE: Before proceeding with the matching algorithm, run the viviner and insert new wines.**"
   ]
  },
  {
   "cell_type": "code",
   "execution_count": 66,
   "metadata": {},
   "outputs": [],
   "source": [
    "with open('search-terms.txt', 'w') as f:\n",
    "    for term in wines['name'].unique():\n",
    "        f.write(f'{term}\\n')\n",
    "    for term in wines['winery_name'].unique():\n",
    "        f.write(f'{term}\\n')"
   ]
  }
 ],
 "metadata": {
  "kernelspec": {
   "display_name": "Python 3.10.6 64-bit",
   "language": "python",
   "name": "python3"
  },
  "language_info": {
   "codemirror_mode": {
    "name": "ipython",
    "version": 3
   },
   "file_extension": ".py",
   "mimetype": "text/x-python",
   "name": "python",
   "nbconvert_exporter": "python",
   "pygments_lexer": "ipython3",
   "version": "3.10.6"
  },
  "orig_nbformat": 4,
  "vscode": {
   "interpreter": {
    "hash": "916dbcbb3f70747c44a77c7bcd40155683ae19c65e1c03b4aa3499c5328201f1"
   }
  }
 },
 "nbformat": 4,
 "nbformat_minor": 2
}
