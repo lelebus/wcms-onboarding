{
 "cells": [
  {
   "cell_type": "markdown",
   "id": "7b8389ba",
   "metadata": {},
   "source": [
    "# Wines selection to insertion\n",
    "\n",
    "Load the list of correct matches and generate the import CSV."
   ]
  },
  {
   "cell_type": "markdown",
   "id": "0d505256",
   "metadata": {},
   "source": [
    "## Load wines file"
   ]
  },
  {
   "cell_type": "code",
   "execution_count": 1,
   "id": "79de8b9b",
   "metadata": {},
   "outputs": [
    {
     "name": "stdout",
     "output_type": "stream",
     "text": [
      "Total rows: 832\n",
      "Total selected wines: 677\n",
      "\n",
      "Total net rows: 677\n"
     ]
    },
    {
     "name": "stderr",
     "output_type": "stream",
     "text": [
      "/home/lelebus/Documents/projects/wcms/onboarding/laite/../matching_selection.py:15: SettingWithCopyWarning: \n",
      "A value is trying to be set on a copy of a slice from a DataFrame.\n",
      "Try using .loc[row_indexer,col_indexer] = value instead\n",
      "\n",
      "See the caveats in the documentation: https://pandas.pydata.org/pandas-docs/stable/user_guide/indexing.html#returning-a-view-versus-a-copy\n",
      "  wines['price'] = wines['price'].fillna(0)\n",
      "/home/lelebus/Documents/projects/wcms/onboarding/laite/../matching_selection.py:16: SettingWithCopyWarning: \n",
      "A value is trying to be set on a copy of a slice from a DataFrame.\n",
      "Try using .loc[row_indexer,col_indexer] = value instead\n",
      "\n",
      "See the caveats in the documentation: https://pandas.pydata.org/pandas-docs/stable/user_guide/indexing.html#returning-a-view-versus-a-copy\n",
      "  wines['price'] = wines['price'].apply(lambda x: int(x) * 100)\n",
      "/home/lelebus/Documents/projects/wcms/onboarding/laite/../matching_selection.py:22: SettingWithCopyWarning: \n",
      "A value is trying to be set on a copy of a slice from a DataFrame.\n",
      "Try using .loc[row_indexer,col_indexer] = value instead\n",
      "\n",
      "See the caveats in the documentation: https://pandas.pydata.org/pandas-docs/stable/user_guide/indexing.html#returning-a-view-versus-a-copy\n",
      "  wines['vintage'] = wines['vintage'].fillna(0)\n",
      "/home/lelebus/Documents/projects/wcms/onboarding/laite/../matching_selection.py:23: SettingWithCopyWarning: \n",
      "A value is trying to be set on a copy of a slice from a DataFrame.\n",
      "Try using .loc[row_indexer,col_indexer] = value instead\n",
      "\n",
      "See the caveats in the documentation: https://pandas.pydata.org/pandas-docs/stable/user_guide/indexing.html#returning-a-view-versus-a-copy\n",
      "  wines['vintage'] = wines['vintage'].apply(lambda x: int(x))\n"
     ]
    }
   ],
   "source": [
    "import sys\n",
    "sys.path.append('..')\n",
    "\n",
    "import matching_selection as selection\n",
    "\n",
    "%load_ext autoreload\n",
    "%autoreload 2\n",
    "\n",
    "selection.generate_insert_file('v3-selection.csv')\n"
   ]
  }
 ],
 "metadata": {
  "kernelspec": {
   "display_name": "Python 3.10.6 64-bit",
   "language": "python",
   "name": "python3"
  },
  "language_info": {
   "codemirror_mode": {
    "name": "ipython",
    "version": 3
   },
   "file_extension": ".py",
   "mimetype": "text/x-python",
   "name": "python",
   "nbconvert_exporter": "python",
   "pygments_lexer": "ipython3",
   "version": "3.10.6"
  },
  "vscode": {
   "interpreter": {
    "hash": "916dbcbb3f70747c44a77c7bcd40155683ae19c65e1c03b4aa3499c5328201f1"
   }
  }
 },
 "nbformat": 4,
 "nbformat_minor": 5
}
