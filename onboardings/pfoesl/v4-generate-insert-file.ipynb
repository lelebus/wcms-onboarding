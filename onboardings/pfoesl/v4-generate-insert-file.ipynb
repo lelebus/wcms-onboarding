{
 "cells": [
  {
   "cell_type": "markdown",
   "id": "7b8389ba",
   "metadata": {},
   "source": [
    "# Wines selection to insertion\n",
    "\n",
    "Load the list of correct matches and generate the import CSV."
   ]
  },
  {
   "cell_type": "markdown",
   "id": "0d505256",
   "metadata": {},
   "source": [
    "## Load wines file"
   ]
  },
  {
   "cell_type": "code",
   "execution_count": 1,
   "id": "79de8b9b",
   "metadata": {},
   "outputs": [
    {
     "name": "stdout",
     "output_type": "stream",
     "text": [
      "Total rows: 432\n",
      "Total selected wines: 432\n",
      "\n",
      "Total net rows: 428\n",
      "Total mismatched wines: 0\n",
      "\n"
     ]
    }
   ],
   "source": [
    "import sys\n",
    "sys.path.append('..')\n",
    "\n",
    "import matching_selection as selection\n",
    "\n",
    "%load_ext autoreload\n",
    "%autoreload 2\n",
    "\n",
    "selection.generate_insert_file('v3-selection+manual.csv')"
   ]
  }
 ],
 "metadata": {
  "kernelspec": {
   "display_name": "Python 3.10.6 64-bit",
   "language": "python",
   "name": "python3"
  },
  "language_info": {
   "codemirror_mode": {
    "name": "ipython",
    "version": 3
   },
   "file_extension": ".py",
   "mimetype": "text/x-python",
   "name": "python",
   "nbconvert_exporter": "python",
   "pygments_lexer": "ipython3",
   "version": "3.10.12"
  },
  "vscode": {
   "interpreter": {
    "hash": "916dbcbb3f70747c44a77c7bcd40155683ae19c65e1c03b4aa3499c5328201f1"
   }
  }
 },
 "nbformat": 4,
 "nbformat_minor": 5
}
