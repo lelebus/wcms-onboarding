{
 "cells": [
  {
   "cell_type": "code",
   "execution_count": 1,
   "metadata": {},
   "outputs": [],
   "source": [
    "import sys\n",
    "sys.path.append('../../')\n",
    "import os\n",
    "\n",
    "import pandas as pd\n",
    "from utils import fill_empty, VColumns\n",
    "from dotenv import load_dotenv\n",
    "load_dotenv()\n",
    "\n",
    "%load_ext autoreload\n",
    "%autoreload 2"
   ]
  },
  {
   "cell_type": "markdown",
   "metadata": {},
   "source": [
    "# Load input file"
   ]
  },
  {
   "cell_type": "code",
   "execution_count": 20,
   "metadata": {},
   "outputs": [
    {
     "data": {
      "text/html": [
       "<div>\n",
       "<style scoped>\n",
       "    .dataframe tbody tr th:only-of-type {\n",
       "        vertical-align: middle;\n",
       "    }\n",
       "\n",
       "    .dataframe tbody tr th {\n",
       "        vertical-align: top;\n",
       "    }\n",
       "\n",
       "    .dataframe thead th {\n",
       "        text-align: right;\n",
       "    }\n",
       "</style>\n",
       "<table border=\"1\" class=\"dataframe\">\n",
       "  <thead>\n",
       "    <tr style=\"text-align: right;\">\n",
       "      <th></th>\n",
       "      <th>name</th>\n",
       "      <th>winery</th>\n",
       "      <th>vintage</th>\n",
       "      <th>size</th>\n",
       "      <th>price</th>\n",
       "    </tr>\n",
       "  </thead>\n",
       "  <tbody>\n",
       "    <tr>\n",
       "      <th>0</th>\n",
       "      <td>Arunda Riserva Extra Brut | CH</td>\n",
       "      <td>\"Sektkellerei Arunda, Mölten\"</td>\n",
       "      <td>NaN</td>\n",
       "      <td>NaN</td>\n",
       "      <td>\"50,00 €\"</td>\n",
       "    </tr>\n",
       "    <tr>\n",
       "      <th>1</th>\n",
       "      <td>\"Arunda Phineas IV | CH, WB, A\"</td>\n",
       "      <td>\"Sektkellerei Arunda, Mölten\"</td>\n",
       "      <td>NaN</td>\n",
       "      <td>NaN</td>\n",
       "      <td>\"85,00 €\"</td>\n",
       "    </tr>\n",
       "    <tr>\n",
       "      <th>2</th>\n",
       "      <td>Praeclarus Brut | CH</td>\n",
       "      <td>\"Kellerei St. Pauls, Eppan\"</td>\n",
       "      <td>NaN</td>\n",
       "      <td>NaN</td>\n",
       "      <td>\"48,00 €\"</td>\n",
       "    </tr>\n",
       "    <tr>\n",
       "      <th>3</th>\n",
       "      <td>Blanc de Blancs Brut Nature 2018 | CH</td>\n",
       "      <td>\"Montris, Kaltern\"</td>\n",
       "      <td>2018</td>\n",
       "      <td>NaN</td>\n",
       "      <td>\"60,00 €\"</td>\n",
       "    </tr>\n",
       "    <tr>\n",
       "      <th>4</th>\n",
       "      <td>\"Brut Riserva 36 2019 | CH, PB, PN\"</td>\n",
       "      <td>Kellerei Meran</td>\n",
       "      <td>2019</td>\n",
       "      <td>NaN</td>\n",
       "      <td>\"47,00 €\"</td>\n",
       "    </tr>\n",
       "  </tbody>\n",
       "</table>\n",
       "</div>"
      ],
      "text/plain": [
       "                                    name                         winery  \\\n",
       "0         Arunda Riserva Extra Brut | CH  \"Sektkellerei Arunda, Mölten\"   \n",
       "1        \"Arunda Phineas IV | CH, WB, A\"  \"Sektkellerei Arunda, Mölten\"   \n",
       "2                   Praeclarus Brut | CH    \"Kellerei St. Pauls, Eppan\"   \n",
       "3  Blanc de Blancs Brut Nature 2018 | CH             \"Montris, Kaltern\"   \n",
       "4    \"Brut Riserva 36 2019 | CH, PB, PN\"                 Kellerei Meran   \n",
       "\n",
       "  vintage  size      price  \n",
       "0     NaN   NaN  \"50,00 €\"  \n",
       "1     NaN   NaN  \"85,00 €\"  \n",
       "2     NaN   NaN  \"48,00 €\"  \n",
       "3    2018   NaN  \"60,00 €\"  \n",
       "4    2019   NaN  \"47,00 €\"  "
      ]
     },
     "execution_count": 20,
     "metadata": {},
     "output_type": "execute_result"
    }
   ],
   "source": [
    "import re\n",
    "\n",
    "# create a dataframe with 3 columns\n",
    "columns = ['name', 'winery', 'vintage', 'size', 'price']\n",
    "df = pd.DataFrame(columns=columns)\n",
    "\n",
    "# read csv and add row 1 as name, row 2 as winery, row 3 as price, then repeat\n",
    "with open('v0-original.csv') as f:\n",
    "    wine_list = []\n",
    "    wine = {}\n",
    "    for i, line in enumerate(f):\n",
    "        if i % 3 == 0:\n",
    "            wine = {}\n",
    "            wine['name'] = line.strip()\n",
    "\n",
    "            # regex to extract vintage\n",
    "            regex = r\"\\b(\\d{4})\\b\"\n",
    "            if re.findall(regex, wine['name']):\n",
    "                wine['vintage'] = re.findall(regex, wine['name'])[0]\n",
    "\n",
    "        elif i % 3 == 1:\n",
    "            wine['winery'] = line.strip()\n",
    "\n",
    "        elif i % 3 == 2:\n",
    "            wine['price'] = line.strip()\n",
    "\n",
    "            # add to list\n",
    "            wine_list.append(wine)\n",
    "\n",
    "df = pd.DataFrame(wine_list, columns=columns)\n",
    "\n",
    "df.head()"
   ]
  },
  {
   "cell_type": "code",
   "execution_count": 21,
   "metadata": {},
   "outputs": [],
   "source": [
    "# print to file\n",
    "df.to_csv('v0-preprocess-step1.csv', index=False)"
   ]
  }
 ],
 "metadata": {
  "kernelspec": {
   "display_name": "vinoteqa",
   "language": "python",
   "name": "python3"
  },
  "language_info": {
   "codemirror_mode": {
    "name": "ipython",
    "version": 3
   },
   "file_extension": ".py",
   "mimetype": "text/x-python",
   "name": "python",
   "nbconvert_exporter": "python",
   "pygments_lexer": "ipython3",
   "version": "3.10.12"
  }
 },
 "nbformat": 4,
 "nbformat_minor": 2
}
