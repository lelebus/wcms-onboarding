{
 "cells": [
  {
   "cell_type": "code",
   "execution_count": 116,
   "metadata": {},
   "outputs": [
    {
     "name": "stdout",
     "output_type": "stream",
     "text": [
      "The autoreload extension is already loaded. To reload it, use:\n",
      "  %reload_ext autoreload\n"
     ]
    }
   ],
   "source": [
    "import sys\n",
    "sys.path.append('../../')\n",
    "import os\n",
    "\n",
    "import pandas as pd\n",
    "from utils import fill_empty, VColumns\n",
    "from dotenv import load_dotenv\n",
    "load_dotenv()\n",
    "\n",
    "%load_ext autoreload\n",
    "%autoreload 2"
   ]
  },
  {
   "cell_type": "markdown",
   "metadata": {},
   "source": [
    "# Load input file"
   ]
  },
  {
   "cell_type": "code",
   "execution_count": 117,
   "metadata": {},
   "outputs": [],
   "source": [
    "df1 = pd.read_csv(\"v1-start.csv\")"
   ]
  },
  {
   "cell_type": "markdown",
   "metadata": {},
   "source": [
    "# Start elaborating columns\n",
    "\n",
    "Create a new dataframe with empty values, so that we can start filling in values from the input dataframe, without overriding columns."
   ]
  },
  {
   "cell_type": "code",
   "execution_count": 118,
   "metadata": {},
   "outputs": [
    {
     "data": {
      "text/html": [
       "<div>\n",
       "<style scoped>\n",
       "    .dataframe tbody tr th:only-of-type {\n",
       "        vertical-align: middle;\n",
       "    }\n",
       "\n",
       "    .dataframe tbody tr th {\n",
       "        vertical-align: top;\n",
       "    }\n",
       "\n",
       "    .dataframe thead th {\n",
       "        text-align: right;\n",
       "    }\n",
       "</style>\n",
       "<table border=\"1\" class=\"dataframe\">\n",
       "  <thead>\n",
       "    <tr style=\"text-align: right;\">\n",
       "      <th></th>\n",
       "      <th>external_id</th>\n",
       "      <th>type</th>\n",
       "      <th>name</th>\n",
       "      <th>winery_name</th>\n",
       "      <th>info</th>\n",
       "      <th>size</th>\n",
       "      <th>vintage</th>\n",
       "      <th>price</th>\n",
       "      <th>purchase_price</th>\n",
       "      <th>quantity</th>\n",
       "      <th>storage_area</th>\n",
       "      <th>internal_notes</th>\n",
       "      <th>visible</th>\n",
       "    </tr>\n",
       "  </thead>\n",
       "  <tbody>\n",
       "  </tbody>\n",
       "</table>\n",
       "</div>"
      ],
      "text/plain": [
       "Empty DataFrame\n",
       "Columns: [external_id, type, name, winery_name, info, size, vintage, price, purchase_price, quantity, storage_area, internal_notes, visible]\n",
       "Index: []"
      ]
     },
     "execution_count": 118,
     "metadata": {},
     "output_type": "execute_result"
    }
   ],
   "source": [
    "# create new empty dataframe\n",
    "df = pd.DataFrame(columns=VColumns.v2())\n",
    "df.head()"
   ]
  },
  {
   "cell_type": "code",
   "execution_count": null,
   "metadata": {},
   "outputs": [
    {
     "data": {
      "text/html": [
       "<div>\n",
       "<style scoped>\n",
       "    .dataframe tbody tr th:only-of-type {\n",
       "        vertical-align: middle;\n",
       "    }\n",
       "\n",
       "    .dataframe tbody tr th {\n",
       "        vertical-align: top;\n",
       "    }\n",
       "\n",
       "    .dataframe thead th {\n",
       "        text-align: right;\n",
       "    }\n",
       "</style>\n",
       "<table border=\"1\" class=\"dataframe\">\n",
       "  <thead>\n",
       "    <tr style=\"text-align: right;\">\n",
       "      <th></th>\n",
       "      <th>external_id</th>\n",
       "      <th>type</th>\n",
       "      <th>name</th>\n",
       "      <th>winery_name</th>\n",
       "      <th>info</th>\n",
       "      <th>size</th>\n",
       "      <th>vintage</th>\n",
       "      <th>price</th>\n",
       "      <th>purchase_price</th>\n",
       "      <th>quantity</th>\n",
       "      <th>storage_area</th>\n",
       "      <th>internal_notes</th>\n",
       "      <th>visible</th>\n",
       "    </tr>\n",
       "  </thead>\n",
       "  <tbody>\n",
       "    <tr>\n",
       "      <th>0</th>\n",
       "      <td>300001.0</td>\n",
       "      <td>NaN</td>\n",
       "      <td>rose NV</td>\n",
       "      <td>Bollinger</td>\n",
       "      <td>NaN</td>\n",
       "      <td>NaN</td>\n",
       "      <td>NaN</td>\n",
       "      <td>NaN</td>\n",
       "      <td>NaN</td>\n",
       "      <td>1.0</td>\n",
       "      <td>None</td>\n",
       "      <td>None</td>\n",
       "      <td>True</td>\n",
       "    </tr>\n",
       "    <tr>\n",
       "      <th>1</th>\n",
       "      <td>300002.0</td>\n",
       "      <td>NaN</td>\n",
       "      <td>Grande Cuvée (PN, CH, PM) NV</td>\n",
       "      <td>Krug</td>\n",
       "      <td>NaN</td>\n",
       "      <td>NaN</td>\n",
       "      <td>NaN</td>\n",
       "      <td>NaN</td>\n",
       "      <td>NaN</td>\n",
       "      <td>2.0</td>\n",
       "      <td>None</td>\n",
       "      <td>None</td>\n",
       "      <td>True</td>\n",
       "    </tr>\n",
       "    <tr>\n",
       "      <th>2</th>\n",
       "      <td>NaN</td>\n",
       "      <td>NaN</td>\n",
       "      <td>~</td>\n",
       "      <td>NaN</td>\n",
       "      <td>NaN</td>\n",
       "      <td>NaN</td>\n",
       "      <td>NaN</td>\n",
       "      <td>NaN</td>\n",
       "      <td>NaN</td>\n",
       "      <td>NaN</td>\n",
       "      <td>None</td>\n",
       "      <td>None</td>\n",
       "      <td>True</td>\n",
       "    </tr>\n",
       "    <tr>\n",
       "      <th>3</th>\n",
       "      <td>300500.0</td>\n",
       "      <td>NaN</td>\n",
       "      <td>Special Cuvee NV</td>\n",
       "      <td>Bollinger</td>\n",
       "      <td>NaN</td>\n",
       "      <td>NaN</td>\n",
       "      <td>NaN</td>\n",
       "      <td>NaN</td>\n",
       "      <td>NaN</td>\n",
       "      <td>24.0</td>\n",
       "      <td>None</td>\n",
       "      <td>None</td>\n",
       "      <td>True</td>\n",
       "    </tr>\n",
       "    <tr>\n",
       "      <th>4</th>\n",
       "      <td>300501.0</td>\n",
       "      <td>NaN</td>\n",
       "      <td>Special Cuvee NV</td>\n",
       "      <td>Bollinger</td>\n",
       "      <td>NaN</td>\n",
       "      <td>NaN</td>\n",
       "      <td>NaN</td>\n",
       "      <td>NaN</td>\n",
       "      <td>NaN</td>\n",
       "      <td>18.0</td>\n",
       "      <td>None</td>\n",
       "      <td>None</td>\n",
       "      <td>True</td>\n",
       "    </tr>\n",
       "  </tbody>\n",
       "</table>\n",
       "</div>"
      ],
      "text/plain": [
       "   external_id type                          name winery_name info size  \\\n",
       "0     300001.0  NaN                       rose NV   Bollinger  NaN  NaN   \n",
       "1     300002.0  NaN  Grande Cuvée (PN, CH, PM) NV        Krug  NaN  NaN   \n",
       "2          NaN  NaN                             ~         NaN  NaN  NaN   \n",
       "3     300500.0  NaN              Special Cuvee NV   Bollinger  NaN  NaN   \n",
       "4     300501.0  NaN              Special Cuvee NV   Bollinger  NaN  NaN   \n",
       "\n",
       "   vintage price purchase_price  quantity storage_area internal_notes  visible  \n",
       "0      NaN   NaN            NaN       1.0         None           None     True  \n",
       "1      NaN   NaN            NaN       2.0         None           None     True  \n",
       "2      NaN   NaN            NaN       NaN         None           None     True  \n",
       "3      NaN   NaN            NaN      24.0         None           None     True  \n",
       "4      NaN   NaN            NaN      18.0         None           None     True  "
      ]
     },
     "execution_count": 119,
     "metadata": {},
     "output_type": "execute_result"
    }
   ],
   "source": [
    "# copy values from original columns to new columns\n",
    "df['external_id'] = df1['external_id']\n",
    "df['type'] = df1['type']\n",
    "df['name'] = df1['name'].astype(str) + \" \" + df1['style'].fillna('').astype(str) # concatenate name and style\n",
    "df['winery_name'] = df1['winery_name']\n",
    "\n",
    "# Extract 4-digit vintage (e.g. 2019) from name by:\n",
    "# 1. Getting all digits from name string\n",
    "# 2. Taking last 4 digits if there are at least 4 digits\n",
    "# 3. Converting to int if valid vintage found, otherwise None\n",
    "df[\"vintage\"] = df1.apply(lambda x: int(''.join(c for c in str(x[\"name\"]) if c.isdigit())[-4:]) if pd.notna(x[\"name\"]) and any(c.isdigit() for c in str(x[\"name\"])) and len(''.join(c for c in str(x[\"name\"]) if c.isdigit())) >= 4 else None, axis=1)\n",
    "df[\"quantity\"] = df1[\"qty\"]\n",
    "df[\"storage_area\"] = None\n",
    "df[\"info\"] = df1[\"info\"]\n",
    "df[\"internal_notes\"] = None\n",
    "df[\"visible\"] = True\n",
    "\n",
    "df.head()"
   ]
  },
  {
   "cell_type": "code",
   "execution_count": 120,
   "metadata": {},
   "outputs": [
    {
     "name": "stdout",
     "output_type": "stream",
     "text": [
      "Before removing empty lines:  3411\n",
      "After removing empty lines:  3071\n"
     ]
    }
   ],
   "source": [
    "print(\"Before removing empty lines: \", len(df))\n",
    "\n",
    "# Drop empty lines\n",
    "df = df[df['name'].fillna('').str.len() + df['winery_name'].fillna('').str.len() > 5]\n",
    "\n",
    "print(\"After removing empty lines: \", len(df))"
   ]
  },
  {
   "cell_type": "code",
   "execution_count": 121,
   "metadata": {},
   "outputs": [
    {
     "name": "stdout",
     "output_type": "stream",
     "text": [
      "[0.375   nan 0.75  1.5   3.    5.    0.72  0.5   0.7  ]\n",
      "['HALF_BOTTLE' 'BOTTLE' 'MAGNUM' 'JEROBOAM' 'BORDEAUX_JEROBOAM']\n"
     ]
    }
   ],
   "source": [
    "# Map sizes \n",
    "print(df1['size'].unique())\n",
    "\n",
    "map_sizes = {\n",
    "    0.375: 'HALF_BOTTLE',\n",
    "    0.75: 'BOTTLE',\n",
    "    0.72: 'BOTTLE',\n",
    "    0.7: 'BOTTLE',\n",
    "    1.5: 'MAGNUM',\n",
    "    3: 'JEROBOAM',\n",
    "    5: 'BORDEAUX_JEROBOAM',\n",
    "}\n",
    "\n",
    "df['size'] = df1['size'].apply(lambda x: map_sizes[x] if x in map_sizes else 'BOTTLE')\n",
    "\n",
    "print(df['size'].unique())\n"
   ]
  },
  {
   "cell_type": "code",
   "execution_count": 122,
   "metadata": {},
   "outputs": [],
   "source": [
    "def convert_price_to_cents(x):\n",
    "    if pd.isna(x) or str(x).strip() == '':\n",
    "        return 0\n",
    "    try:\n",
    "        return int(float(str(x).replace('€', '').strip()) * 100)\n",
    "    except (ValueError, TypeError):\n",
    "        return 0\n",
    "\n",
    "df1['sales_price_eur'] = df1['sales_price_eur'].fillna('')\n",
    "df['price'] = df1['sales_price_eur'].apply(convert_price_to_cents)\n",
    "\n",
    "df1['purchase_price_eur'] = df1['purchase_price_eur'].fillna('')\n",
    "df['purchase_price'] = df1['purchase_price_eur'].apply(convert_price_to_cents)"
   ]
  },
  {
   "cell_type": "code",
   "execution_count": 123,
   "metadata": {},
   "outputs": [
    {
     "data": {
      "text/html": [
       "<div>\n",
       "<style scoped>\n",
       "    .dataframe tbody tr th:only-of-type {\n",
       "        vertical-align: middle;\n",
       "    }\n",
       "\n",
       "    .dataframe tbody tr th {\n",
       "        vertical-align: top;\n",
       "    }\n",
       "\n",
       "    .dataframe thead th {\n",
       "        text-align: right;\n",
       "    }\n",
       "</style>\n",
       "<table border=\"1\" class=\"dataframe\">\n",
       "  <thead>\n",
       "    <tr style=\"text-align: right;\">\n",
       "      <th></th>\n",
       "      <th>external_id</th>\n",
       "      <th>type</th>\n",
       "      <th>name</th>\n",
       "      <th>winery_name</th>\n",
       "      <th>info</th>\n",
       "      <th>size</th>\n",
       "      <th>vintage</th>\n",
       "      <th>price</th>\n",
       "      <th>purchase_price</th>\n",
       "      <th>quantity</th>\n",
       "      <th>storage_area</th>\n",
       "      <th>internal_notes</th>\n",
       "      <th>visible</th>\n",
       "    </tr>\n",
       "  </thead>\n",
       "  <tbody>\n",
       "    <tr>\n",
       "      <th>0</th>\n",
       "      <td>300001.0</td>\n",
       "      <td></td>\n",
       "      <td>rose NV</td>\n",
       "      <td>Bollinger</td>\n",
       "      <td></td>\n",
       "      <td>HALF_BOTTLE</td>\n",
       "      <td>0</td>\n",
       "      <td>5500</td>\n",
       "      <td>2990</td>\n",
       "      <td>1</td>\n",
       "      <td></td>\n",
       "      <td></td>\n",
       "      <td>True</td>\n",
       "    </tr>\n",
       "    <tr>\n",
       "      <th>1</th>\n",
       "      <td>300002.0</td>\n",
       "      <td></td>\n",
       "      <td>Grande Cuvée (PN, CH, PM) NV</td>\n",
       "      <td>Krug</td>\n",
       "      <td></td>\n",
       "      <td>HALF_BOTTLE</td>\n",
       "      <td>0</td>\n",
       "      <td>19000</td>\n",
       "      <td>9990</td>\n",
       "      <td>2</td>\n",
       "      <td></td>\n",
       "      <td></td>\n",
       "      <td>True</td>\n",
       "    </tr>\n",
       "    <tr>\n",
       "      <th>3</th>\n",
       "      <td>300500.0</td>\n",
       "      <td></td>\n",
       "      <td>Special Cuvee NV</td>\n",
       "      <td>Bollinger</td>\n",
       "      <td></td>\n",
       "      <td>BOTTLE</td>\n",
       "      <td>0</td>\n",
       "      <td>9500</td>\n",
       "      <td>3525</td>\n",
       "      <td>24</td>\n",
       "      <td></td>\n",
       "      <td></td>\n",
       "      <td>True</td>\n",
       "    </tr>\n",
       "    <tr>\n",
       "      <th>4</th>\n",
       "      <td>300501.0</td>\n",
       "      <td></td>\n",
       "      <td>Special Cuvee NV</td>\n",
       "      <td>Bollinger</td>\n",
       "      <td></td>\n",
       "      <td>MAGNUM</td>\n",
       "      <td>0</td>\n",
       "      <td>19000</td>\n",
       "      <td>8250</td>\n",
       "      <td>18</td>\n",
       "      <td></td>\n",
       "      <td></td>\n",
       "      <td>True</td>\n",
       "    </tr>\n",
       "    <tr>\n",
       "      <th>5</th>\n",
       "      <td>300502.0</td>\n",
       "      <td></td>\n",
       "      <td>Special Cuvee NV rote Holzbox</td>\n",
       "      <td>Bollinger</td>\n",
       "      <td></td>\n",
       "      <td>JEROBOAM</td>\n",
       "      <td>0</td>\n",
       "      <td>39500</td>\n",
       "      <td>18750</td>\n",
       "      <td>1</td>\n",
       "      <td></td>\n",
       "      <td></td>\n",
       "      <td>True</td>\n",
       "    </tr>\n",
       "  </tbody>\n",
       "</table>\n",
       "</div>"
      ],
      "text/plain": [
       "  external_id type                           name winery_name info  \\\n",
       "0    300001.0                             rose NV   Bollinger        \n",
       "1    300002.0        Grande Cuvée (PN, CH, PM) NV        Krug        \n",
       "3    300500.0                    Special Cuvee NV   Bollinger        \n",
       "4    300501.0                    Special Cuvee NV   Bollinger        \n",
       "5    300502.0       Special Cuvee NV rote Holzbox   Bollinger        \n",
       "\n",
       "          size  vintage  price  purchase_price  quantity storage_area  \\\n",
       "0  HALF_BOTTLE        0   5500            2990         1                \n",
       "1  HALF_BOTTLE        0  19000            9990         2                \n",
       "3       BOTTLE        0   9500            3525        24                \n",
       "4       MAGNUM        0  19000            8250        18                \n",
       "5     JEROBOAM        0  39500           18750         1                \n",
       "\n",
       "  internal_notes  visible  \n",
       "0                    True  \n",
       "1                    True  \n",
       "3                    True  \n",
       "4                    True  \n",
       "5                    True  "
      ]
     },
     "execution_count": 123,
     "metadata": {},
     "output_type": "execute_result"
    }
   ],
   "source": [
    "df = fill_empty(df, VColumns.v2(), False)\n",
    "df.head()"
   ]
  },
  {
   "cell_type": "markdown",
   "metadata": {},
   "source": [
    "# Merge files and write output\n",
    "\n",
    "If there are multiple files, merge them into one and create single output file."
   ]
  },
  {
   "cell_type": "code",
   "execution_count": 124,
   "metadata": {},
   "outputs": [
    {
     "data": {
      "text/plain": [
       "False"
      ]
     },
     "execution_count": 124,
     "metadata": {},
     "output_type": "execute_result"
    }
   ],
   "source": [
    "df.head()\n",
    "\n",
    "df_out = pd.concat([df], ignore_index=True)\n",
    "df_out.to_csv(\"v2-cleaned.csv\", index=False)\n",
    "\n",
    "bool()"
   ]
  }
 ],
 "metadata": {
  "kernelspec": {
   "display_name": "venv",
   "language": "python",
   "name": "python3"
  },
  "language_info": {
   "codemirror_mode": {
    "name": "ipython",
    "version": 3
   },
   "file_extension": ".py",
   "mimetype": "text/x-python",
   "name": "python",
   "nbconvert_exporter": "python",
   "pygments_lexer": "ipython3",
   "version": "3.10.12"
  }
 },
 "nbformat": 4,
 "nbformat_minor": 2
}
