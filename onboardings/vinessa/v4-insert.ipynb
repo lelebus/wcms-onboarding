{
 "cells": [
  {
   "cell_type": "markdown",
   "id": "7b8389ba",
   "metadata": {},
   "source": [
    "# Wines selection to insertion\n",
    "\n",
    "Load the list of correct matches and generate the import CSV."
   ]
  },
  {
   "cell_type": "markdown",
   "id": "0d505256",
   "metadata": {},
   "source": [
    "## Load wines file"
   ]
  },
  {
   "cell_type": "code",
   "execution_count": 1,
   "id": "79de8b9b",
   "metadata": {},
   "outputs": [
    {
     "ename": "SyntaxError",
     "evalue": "invalid syntax (1901011443.py, line 4)",
     "output_type": "error",
     "traceback": [
      "\u001b[0;36m  Cell \u001b[0;32mIn[1], line 4\u001b[0;36m\u001b[0m\n\u001b[0;31m    import matching-selection_insert as alg\u001b[0m\n\u001b[0m                   ^\u001b[0m\n\u001b[0;31mSyntaxError\u001b[0m\u001b[0;31m:\u001b[0m invalid syntax\n"
     ]
    }
   ],
   "source": [
    "import sys\n",
    "sys.path.append('..')\n",
    "\n",
    "import matching_selection as selection\n",
    "\n",
    "selection.generate_insert_file('v3-selection.csv')\n"
   ]
  }
 ],
 "metadata": {
  "kernelspec": {
   "display_name": "Python 3.10.6 64-bit",
   "language": "python",
   "name": "python3"
  },
  "language_info": {
   "codemirror_mode": {
    "name": "ipython",
    "version": 3
   },
   "file_extension": ".py",
   "mimetype": "text/x-python",
   "name": "python",
   "nbconvert_exporter": "python",
   "pygments_lexer": "ipython3",
   "version": "3.10.6"
  },
  "vscode": {
   "interpreter": {
    "hash": "916dbcbb3f70747c44a77c7bcd40155683ae19c65e1c03b4aa3499c5328201f1"
   }
  }
 },
 "nbformat": 4,
 "nbformat_minor": 5
}
